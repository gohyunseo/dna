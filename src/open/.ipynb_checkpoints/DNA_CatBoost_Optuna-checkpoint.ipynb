{
 "cells": [
  {
   "cell_type": "markdown",
   "id": "5d5f03c9",
   "metadata": {},
   "source": [
    "## 임포트"
   ]
  },
  {
   "cell_type": "code",
   "execution_count": 16,
   "id": "5cc60d0b",
   "metadata": {
    "scrolled": true
   },
   "outputs": [
    {
     "name": "stdout",
     "output_type": "stream",
     "text": [
      "Collecting teddynote\n",
      "  Downloading teddynote-0.2.1-py3-none-any.whl (10 kB)\n",
      "Requirement already satisfied: scikit-learn in c:\\programdata\\anaconda3\\envs\\tf_cpu\\lib\\site-packages (from teddynote) (1.0.2)\n",
      "Requirement already satisfied: optuna in c:\\programdata\\anaconda3\\envs\\tf_cpu\\lib\\site-packages (from teddynote) (3.0.5)\n",
      "Collecting xgboost\n",
      "  Downloading xgboost-1.6.2-py3-none-win_amd64.whl (125.4 MB)\n",
      "     ------------------------------------- 125.4/125.4 MB 16.4 MB/s eta 0:00:00\n",
      "Requirement already satisfied: pandas in c:\\programdata\\anaconda3\\envs\\tf_cpu\\lib\\site-packages (from teddynote) (1.3.5)\n",
      "Requirement already satisfied: tqdm in c:\\programdata\\anaconda3\\envs\\tf_cpu\\lib\\site-packages (from teddynote) (4.64.1)\n",
      "Requirement already satisfied: catboost in c:\\programdata\\anaconda3\\envs\\tf_cpu\\lib\\site-packages (from teddynote) (1.0.6)\n",
      "Requirement already satisfied: lightgbm in c:\\programdata\\anaconda3\\envs\\tf_cpu\\lib\\site-packages (from teddynote) (3.2.1)\n",
      "Requirement already satisfied: scipy in c:\\programdata\\anaconda3\\envs\\tf_cpu\\lib\\site-packages (from catboost->teddynote) (1.7.3)\n",
      "Requirement already satisfied: matplotlib in c:\\programdata\\anaconda3\\envs\\tf_cpu\\lib\\site-packages (from catboost->teddynote) (3.5.2)\n",
      "Requirement already satisfied: six in c:\\programdata\\anaconda3\\envs\\tf_cpu\\lib\\site-packages (from catboost->teddynote) (1.16.0)\n",
      "Requirement already satisfied: plotly in c:\\programdata\\anaconda3\\envs\\tf_cpu\\lib\\site-packages (from catboost->teddynote) (5.9.0)\n",
      "Requirement already satisfied: graphviz in c:\\programdata\\anaconda3\\envs\\tf_cpu\\lib\\site-packages (from catboost->teddynote) (0.20.1)\n",
      "Requirement already satisfied: numpy>=1.16.0 in c:\\programdata\\anaconda3\\envs\\tf_cpu\\lib\\site-packages (from catboost->teddynote) (1.21.5)\n",
      "Requirement already satisfied: python-dateutil>=2.7.3 in c:\\programdata\\anaconda3\\envs\\tf_cpu\\lib\\site-packages (from pandas->teddynote) (2.8.2)\n",
      "Requirement already satisfied: pytz>=2017.3 in c:\\programdata\\anaconda3\\envs\\tf_cpu\\lib\\site-packages (from pandas->teddynote) (2022.1)\n",
      "Requirement already satisfied: wheel in c:\\programdata\\anaconda3\\envs\\tf_cpu\\lib\\site-packages (from lightgbm->teddynote) (0.37.1)\n",
      "Requirement already satisfied: joblib>=0.11 in c:\\programdata\\anaconda3\\envs\\tf_cpu\\lib\\site-packages (from scikit-learn->teddynote) (1.1.1)\n",
      "Requirement already satisfied: threadpoolctl>=2.0.0 in c:\\programdata\\anaconda3\\envs\\tf_cpu\\lib\\site-packages (from scikit-learn->teddynote) (2.2.0)\n",
      "Requirement already satisfied: PyYAML in c:\\programdata\\anaconda3\\envs\\tf_cpu\\lib\\site-packages (from optuna->teddynote) (6.0)\n",
      "Requirement already satisfied: packaging>=20.0 in c:\\programdata\\anaconda3\\envs\\tf_cpu\\lib\\site-packages (from optuna->teddynote) (21.3)\n",
      "Requirement already satisfied: sqlalchemy>=1.3.0 in c:\\programdata\\anaconda3\\envs\\tf_cpu\\lib\\site-packages (from optuna->teddynote) (1.4.45)\n",
      "Requirement already satisfied: alembic>=1.5.0 in c:\\programdata\\anaconda3\\envs\\tf_cpu\\lib\\site-packages (from optuna->teddynote) (1.9.0)\n",
      "Requirement already satisfied: colorlog in c:\\programdata\\anaconda3\\envs\\tf_cpu\\lib\\site-packages (from optuna->teddynote) (6.7.0)\n",
      "Requirement already satisfied: cliff in c:\\programdata\\anaconda3\\envs\\tf_cpu\\lib\\site-packages (from optuna->teddynote) (3.10.1)\n",
      "Requirement already satisfied: cmaes>=0.8.2 in c:\\programdata\\anaconda3\\envs\\tf_cpu\\lib\\site-packages (from optuna->teddynote) (0.9.0)\n",
      "Requirement already satisfied: importlib-metadata<5.0.0 in c:\\programdata\\anaconda3\\envs\\tf_cpu\\lib\\site-packages (from optuna->teddynote) (4.11.3)\n",
      "Requirement already satisfied: colorama in c:\\programdata\\anaconda3\\envs\\tf_cpu\\lib\\site-packages (from tqdm->teddynote) (0.4.5)\n",
      "Requirement already satisfied: Mako in c:\\programdata\\anaconda3\\envs\\tf_cpu\\lib\\site-packages (from alembic>=1.5.0->optuna->teddynote) (1.2.4)\n",
      "Requirement already satisfied: importlib-resources in c:\\programdata\\anaconda3\\envs\\tf_cpu\\lib\\site-packages (from alembic>=1.5.0->optuna->teddynote) (5.2.0)\n",
      "Requirement already satisfied: zipp>=0.5 in c:\\programdata\\anaconda3\\envs\\tf_cpu\\lib\\site-packages (from importlib-metadata<5.0.0->optuna->teddynote) (3.8.0)\n",
      "Requirement already satisfied: typing-extensions>=3.6.4 in c:\\programdata\\anaconda3\\envs\\tf_cpu\\lib\\site-packages (from importlib-metadata<5.0.0->optuna->teddynote) (4.3.0)\n",
      "Requirement already satisfied: pyparsing!=3.0.5,>=2.0.2 in c:\\programdata\\anaconda3\\envs\\tf_cpu\\lib\\site-packages (from packaging>=20.0->optuna->teddynote) (3.0.9)\n",
      "Requirement already satisfied: greenlet!=0.4.17 in c:\\programdata\\anaconda3\\envs\\tf_cpu\\lib\\site-packages (from sqlalchemy>=1.3.0->optuna->teddynote) (2.0.1)\n",
      "Requirement already satisfied: pbr!=2.1.0,>=2.0.0 in c:\\programdata\\anaconda3\\envs\\tf_cpu\\lib\\site-packages (from cliff->optuna->teddynote) (5.11.0)\n",
      "Requirement already satisfied: PrettyTable>=0.7.2 in c:\\programdata\\anaconda3\\envs\\tf_cpu\\lib\\site-packages (from cliff->optuna->teddynote) (3.5.0)\n",
      "Requirement already satisfied: autopage>=0.4.0 in c:\\programdata\\anaconda3\\envs\\tf_cpu\\lib\\site-packages (from cliff->optuna->teddynote) (0.5.1)\n",
      "Requirement already satisfied: cmd2>=1.0.0 in c:\\programdata\\anaconda3\\envs\\tf_cpu\\lib\\site-packages (from cliff->optuna->teddynote) (2.4.2)\n",
      "Requirement already satisfied: stevedore>=2.0.1 in c:\\programdata\\anaconda3\\envs\\tf_cpu\\lib\\site-packages (from cliff->optuna->teddynote) (3.5.2)\n",
      "Requirement already satisfied: kiwisolver>=1.0.1 in c:\\programdata\\anaconda3\\envs\\tf_cpu\\lib\\site-packages (from matplotlib->catboost->teddynote) (1.4.2)\n",
      "Requirement already satisfied: fonttools>=4.22.0 in c:\\programdata\\anaconda3\\envs\\tf_cpu\\lib\\site-packages (from matplotlib->catboost->teddynote) (4.25.0)\n",
      "Requirement already satisfied: pillow>=6.2.0 in c:\\programdata\\anaconda3\\envs\\tf_cpu\\lib\\site-packages (from matplotlib->catboost->teddynote) (9.2.0)\n",
      "Requirement already satisfied: cycler>=0.10 in c:\\programdata\\anaconda3\\envs\\tf_cpu\\lib\\site-packages (from matplotlib->catboost->teddynote) (0.11.0)\n",
      "Requirement already satisfied: tenacity>=6.2.0 in c:\\programdata\\anaconda3\\envs\\tf_cpu\\lib\\site-packages (from plotly->catboost->teddynote) (8.0.1)\n",
      "Requirement already satisfied: wcwidth>=0.1.7 in c:\\programdata\\anaconda3\\envs\\tf_cpu\\lib\\site-packages (from cmd2>=1.0.0->cliff->optuna->teddynote) (0.2.5)\n",
      "Requirement already satisfied: pyperclip>=1.6 in c:\\programdata\\anaconda3\\envs\\tf_cpu\\lib\\site-packages (from cmd2>=1.0.0->cliff->optuna->teddynote) (1.8.2)\n",
      "Requirement already satisfied: attrs>=16.3.0 in c:\\programdata\\anaconda3\\envs\\tf_cpu\\lib\\site-packages (from cmd2>=1.0.0->cliff->optuna->teddynote) (21.4.0)\n",
      "Requirement already satisfied: pyreadline3 in c:\\programdata\\anaconda3\\envs\\tf_cpu\\lib\\site-packages (from cmd2>=1.0.0->cliff->optuna->teddynote) (3.4.1)\n",
      "Requirement already satisfied: MarkupSafe>=0.9.2 in c:\\programdata\\anaconda3\\envs\\tf_cpu\\lib\\site-packages (from Mako->alembic>=1.5.0->optuna->teddynote) (2.1.1)\n",
      "Installing collected packages: xgboost, teddynote\n",
      "Successfully installed teddynote-0.2.1 xgboost-1.6.2\n"
     ]
    }
   ],
   "source": [
    "!pip install -U teddynote\n",
    "\n",
    "from teddynote import models\n",
    "# Data Wrangling\n",
    "import pandas as pd\n",
    "import numpy as np\n",
    "\n",
    "#Utility\n",
    "import random\n",
    "import os\n",
    "\n",
    "# Preprocessing & Feature Engineering\n",
    "from sklearn.pipeline import Pipeline\n",
    "from sklearn.preprocessing import FunctionTransformer\n",
    "from sklearn.compose import ColumnTransformer\n",
    "from sklearn.preprocessing import MaxAbsScaler\n",
    "from sklearn.preprocessing import MinMaxScaler\n",
    "from sklearn.feature_selection import SelectPercentile\n",
    "from sklearn import preprocessing\n",
    "from sklearn.ensemble import RandomForestClassifier\n",
    "\n",
    "# Evaluation\n",
    "from sklearn.model_selection import train_test_split, KFold, StratifiedKFold\n",
    "from sklearn.model_selection import cross_val_score\n",
    "\n",
    "# Optuna\n",
    "import optuna\n",
    "from optuna.samplers import TPESampler\n",
    "from optuna import Trial\n",
    "\n",
    "# Modeling\n",
    "from xgboost import XGBRegressor\n",
    "from catboost import CatBoostRegressor\n",
    "from lightgbm import LGBMRegressor\n",
    "from catboost import CatBoostClassifier, Pool, cv\n",
    "\n",
    "# Visualization\n",
    "from matplotlib import pyplot as plt\n",
    "import seaborn as sns\n",
    "\n",
    "%matplotlib inline\n",
    "import warnings\n",
    "warnings.filterwarnings(\"ignore\")\n",
    "\n",
    "pd.set_option('mode.chained_assignment',  None)"
   ]
  },
  {
   "cell_type": "code",
   "execution_count": 17,
   "id": "4940f0df",
   "metadata": {},
   "outputs": [],
   "source": [
    "class CFG:\n",
    "    SEED = 42"
   ]
  },
  {
   "cell_type": "code",
   "execution_count": 18,
   "id": "3ae17b9e",
   "metadata": {},
   "outputs": [],
   "source": [
    "def seed_everything(seed):\n",
    "    random.seed(seed)\n",
    "    os.environ['PYTHONHASHSEED'] = str(seed)\n",
    "    np.random.seed(seed)\n",
    "seed_everything(CFG.SEED) # Seed 고정"
   ]
  },
  {
   "cell_type": "markdown",
   "id": "33016820",
   "metadata": {},
   "source": [
    "## 데이터 불러오기"
   ]
  },
  {
   "cell_type": "code",
   "execution_count": 19,
   "id": "814655ab",
   "metadata": {},
   "outputs": [],
   "source": [
    "train = pd.read_csv('train.csv')\n",
    "test = pd.read_csv('test.csv')"
   ]
  },
  {
   "cell_type": "code",
   "execution_count": 20,
   "id": "f68fc462",
   "metadata": {},
   "outputs": [],
   "source": [
    "def get_x_y(df):\n",
    "    if 'class' in df.columns:\n",
    "        df_x = df.drop(columns=['id', 'class','father','mother','gender'])\n",
    "        df_y = df['class']\n",
    "        return df_x, df_y\n",
    "    else:\n",
    "        df_x = df.drop(columns=['id'])\n",
    "        return df_x"
   ]
  },
  {
   "cell_type": "code",
   "execution_count": 21,
   "id": "7a73a932",
   "metadata": {},
   "outputs": [],
   "source": [
    "train_x, train_y = get_x_y(train)\n",
    "test_x = get_x_y(test)"
   ]
  },
  {
   "cell_type": "markdown",
   "id": "0645d69b",
   "metadata": {},
   "source": [
    "## Data Pre-processing\n",
    "### Label-Encoding"
   ]
  },
  {
   "cell_type": "code",
   "execution_count": 22,
   "id": "dce35ecf",
   "metadata": {},
   "outputs": [],
   "source": [
    "class_le = preprocessing.LabelEncoder()\n",
    "snp_le = preprocessing.LabelEncoder()\n",
    "snp_col = [f'SNP_{str(x).zfill(2)}' for x in range(1,16)]"
   ]
  },
  {
   "cell_type": "code",
   "execution_count": 23,
   "id": "bf3f830d",
   "metadata": {},
   "outputs": [],
   "source": [
    "snp_data = []\n",
    "for col in snp_col:\n",
    "    snp_data += list(train_x[col].values)"
   ]
  },
  {
   "cell_type": "code",
   "execution_count": 24,
   "id": "8366d80e",
   "metadata": {},
   "outputs": [
    {
     "data": {
      "text/plain": [
       "LabelEncoder()"
      ]
     },
     "execution_count": 24,
     "metadata": {},
     "output_type": "execute_result"
    }
   ],
   "source": [
    "train_y = class_le.fit_transform(train_y)\n",
    "snp_le.fit(snp_data)"
   ]
  },
  {
   "cell_type": "code",
   "execution_count": 25,
   "id": "e8a39e90",
   "metadata": {},
   "outputs": [],
   "source": [
    "for col in train_x.columns:\n",
    "    if col in snp_col:\n",
    "        train_x[col] = snp_le.transform(train_x[col])\n",
    "        test_x[col] = snp_le.transform(test_x[col])"
   ]
  },
  {
   "cell_type": "code",
   "execution_count": null,
   "id": "eaa803e6",
   "metadata": {},
   "outputs": [],
   "source": []
  },
  {
   "cell_type": "markdown",
   "id": "3b4138aa",
   "metadata": {},
   "source": [
    "## Model Fit"
   ]
  },
  {
   "cell_type": "code",
   "execution_count": null,
   "id": "7b4a9e51",
   "metadata": {},
   "outputs": [
    {
     "name": "stderr",
     "output_type": "stream",
     "text": [
      "\u001b[32m[I 2022-12-21 16:10:02,341]\u001b[0m A new study created in memory with name: no-name-fb309279-c8dd-4207-b9f1-a25e308eba81\u001b[0m\n"
     ]
    },
    {
     "name": "stdout",
     "output_type": "stream",
     "text": [
      "metric type: f1, score: 0.98103\n",
      "metric type: f1, score: 0.96226\n",
      "metric type: f1, score: 0.94184\n",
      "metric type: f1, score: 0.92308\n"
     ]
    },
    {
     "name": "stderr",
     "output_type": "stream",
     "text": [
      "\u001b[32m[I 2022-12-21 16:10:04,650]\u001b[0m Trial 0 finished with value: 0.9577797108587018 and parameters: {'bootstrap_type': 'Bernoulli', 'boosting_type': 'Ordered', 'od_type': 'Iter', 'colsample_bylevel': 0.06758243173036939, 'l2_leaf_reg': 0.3632364572746973, 'learning_rate': 0.01468882024773116, 'iterations': 768, 'min_child_samples': 6, 'depth': 6, 'subsample': 0.738716294642164}. Best is trial 0 with value: 0.9577797108587018.\u001b[0m\n"
     ]
    },
    {
     "name": "stdout",
     "output_type": "stream",
     "text": [
      "metric type: f1, score: 0.98069\n",
      "metric type: f1, score: 0.92453\n",
      "metric type: f1, score: 0.96187\n",
      "metric type: f1, score: 0.98075\n",
      "metric type: f1, score: 1.00000\n"
     ]
    },
    {
     "name": "stderr",
     "output_type": "stream",
     "text": [
      "\u001b[32m[I 2022-12-21 16:10:06,056]\u001b[0m Trial 1 finished with value: 0.9619385488725112 and parameters: {'bootstrap_type': 'MVS', 'boosting_type': 'Ordered', 'od_type': 'Iter', 'colsample_bylevel': 0.0584721792282906, 'l2_leaf_reg': 0.06736259339127611, 'learning_rate': 0.05167303615575541, 'iterations': 644, 'min_child_samples': 26, 'depth': 6}. Best is trial 1 with value: 0.9619385488725112.\u001b[0m\n"
     ]
    },
    {
     "name": "stdout",
     "output_type": "stream",
     "text": [
      "metric type: f1, score: 0.94254\n",
      "metric type: f1, score: 0.90537\n",
      "metric type: f1, score: 0.94348\n",
      "metric type: f1, score: 0.96074\n",
      "metric type: f1, score: 0.98037\n"
     ]
    },
    {
     "name": "stderr",
     "output_type": "stream",
     "text": [
      "\u001b[32m[I 2022-12-21 16:10:08,087]\u001b[0m Trial 2 finished with value: 0.9502983198849536 and parameters: {'bootstrap_type': 'MVS', 'boosting_type': 'Ordered', 'od_type': 'IncToDec', 'colsample_bylevel': 0.024172911047752838, 'l2_leaf_reg': 0.020202303053480482, 'learning_rate': 0.017326259783241413, 'iterations': 810, 'min_child_samples': 1, 'depth': 8}. Best is trial 1 with value: 0.9619385488725112.\u001b[0m\n"
     ]
    },
    {
     "name": "stdout",
     "output_type": "stream",
     "text": [
      "metric type: f1, score: 0.96154\n",
      "metric type: f1, score: 0.96226\n",
      "metric type: f1, score: 0.94360\n",
      "metric type: f1, score: 0.98066\n",
      "metric type: f1, score: 0.92009\n"
     ]
    },
    {
     "name": "stderr",
     "output_type": "stream",
     "text": [
      "\u001b[32m[I 2022-12-21 16:10:08,895]\u001b[0m Trial 3 finished with value: 0.9574485450653849 and parameters: {'bootstrap_type': 'Bernoulli', 'boosting_type': 'Ordered', 'od_type': 'IncToDec', 'colsample_bylevel': 0.040160461941300477, 'l2_leaf_reg': 2.2323172374305028e-07, 'learning_rate': 0.20189879904457053, 'iterations': 1057, 'min_child_samples': 32, 'depth': 12, 'subsample': 0.7766237053808711}. Best is trial 1 with value: 0.9619385488725112.\u001b[0m\n"
     ]
    },
    {
     "name": "stdout",
     "output_type": "stream",
     "text": [
      "metric type: f1, score: 0.98063\n",
      "metric type: f1, score: 0.98110\n",
      "metric type: f1, score: 0.96226\n",
      "metric type: f1, score: 0.96154\n",
      "metric type: f1, score: 0.94276\n"
     ]
    },
    {
     "name": "stderr",
     "output_type": "stream",
     "text": [
      "\u001b[32m[I 2022-12-21 16:10:10,240]\u001b[0m Trial 4 finished with value: 0.9617131822057748 and parameters: {'bootstrap_type': 'MVS', 'boosting_type': 'Plain', 'od_type': 'IncToDec', 'colsample_bylevel': 0.01994950815412165, 'l2_leaf_reg': 0.16748238972266352, 'learning_rate': 0.060474472251705186, 'iterations': 1650, 'min_child_samples': 27, 'depth': 5}. Best is trial 1 with value: 0.9619385488725112.\u001b[0m\n"
     ]
    },
    {
     "name": "stdout",
     "output_type": "stream",
     "text": [
      "metric type: f1, score: 0.96090\n",
      "metric type: f1, score: 1.00000\n",
      "metric type: f1, score: 0.94283\n",
      "metric type: f1, score: 1.00000\n"
     ]
    },
    {
     "name": "stderr",
     "output_type": "stream",
     "text": [
      "\u001b[32m[I 2022-12-21 16:10:10,905]\u001b[0m Trial 5 finished with value: 0.9688990128426042 and parameters: {'bootstrap_type': 'Bayesian', 'boosting_type': 'Plain', 'od_type': 'Iter', 'colsample_bylevel': 0.0170401066397725, 'l2_leaf_reg': 0.05460350356120117, 'learning_rate': 0.07894382088056237, 'iterations': 446, 'min_child_samples': 12, 'depth': 2, 'bagging_temperature': 34.01883843740292}. Best is trial 5 with value: 0.9688990128426042.\u001b[0m\n"
     ]
    },
    {
     "name": "stdout",
     "output_type": "stream",
     "text": [
      "metric type: f1, score: 0.96028\n",
      "metric type: f1, score: 0.94138\n",
      "metric type: f1, score: 0.96331\n",
      "metric type: f1, score: 0.94271\n",
      "metric type: f1, score: 0.98062\n",
      "metric type: f1, score: 0.96135\n"
     ]
    },
    {
     "name": "stderr",
     "output_type": "stream",
     "text": [
      "\u001b[32m[I 2022-12-21 16:10:12,495]\u001b[0m Trial 6 finished with value: 0.9539724793172283 and parameters: {'bootstrap_type': 'Bayesian', 'boosting_type': 'Plain', 'od_type': 'Iter', 'colsample_bylevel': 0.03365979882345982, 'l2_leaf_reg': 0.019745238622118615, 'learning_rate': 0.015092922390744213, 'iterations': 1179, 'min_child_samples': 26, 'depth': 3, 'bagging_temperature': 29.431235679678412}. Best is trial 5 with value: 0.9688990128426042.\u001b[0m\n"
     ]
    },
    {
     "name": "stdout",
     "output_type": "stream",
     "text": [
      "metric type: f1, score: 0.92188\n",
      "metric type: f1, score: 0.98111\n",
      "metric type: f1, score: 0.90628\n",
      "metric type: f1, score: 0.94291\n"
     ]
    },
    {
     "name": "stderr",
     "output_type": "stream",
     "text": [
      "\u001b[32m[I 2022-12-21 16:10:13,581]\u001b[0m Trial 7 finished with value: 0.9388231688689253 and parameters: {'bootstrap_type': 'MVS', 'boosting_type': 'Ordered', 'od_type': 'IncToDec', 'colsample_bylevel': 0.04236830752993776, 'l2_leaf_reg': 2.33627261323977, 'learning_rate': 0.20565031019552982, 'iterations': 675, 'min_child_samples': 32, 'depth': 4}. Best is trial 5 with value: 0.9688990128426042.\u001b[0m\n"
     ]
    },
    {
     "name": "stdout",
     "output_type": "stream",
     "text": [
      "metric type: f1, score: 0.98091\n",
      "metric type: f1, score: 0.88291\n",
      "metric type: f1, score: 0.96226\n",
      "metric type: f1, score: 0.94301\n",
      "metric type: f1, score: 0.96154\n",
      "metric type: f1, score: 0.96154\n"
     ]
    },
    {
     "name": "stderr",
     "output_type": "stream",
     "text": [
      "\u001b[32m[I 2022-12-21 16:10:13,938]\u001b[0m Trial 8 finished with value: 0.9617950027699933 and parameters: {'bootstrap_type': 'MVS', 'boosting_type': 'Plain', 'od_type': 'Iter', 'colsample_bylevel': 0.03532457313948974, 'l2_leaf_reg': 0.0021625561732788383, 'learning_rate': 0.3671473930173935, 'iterations': 1206, 'min_child_samples': 16, 'depth': 2}. Best is trial 5 with value: 0.9688990128426042.\u001b[0m\n"
     ]
    },
    {
     "name": "stdout",
     "output_type": "stream",
     "text": [
      "metric type: f1, score: 0.98063\n",
      "metric type: f1, score: 0.96239\n",
      "metric type: f1, score: 0.90379\n",
      "metric type: f1, score: 0.96154\n",
      "metric type: f1, score: 1.00000\n"
     ]
    },
    {
     "name": "stderr",
     "output_type": "stream",
     "text": [
      "\u001b[32m[I 2022-12-21 16:10:14,511]\u001b[0m Trial 9 finished with value: 0.9578511412854237 and parameters: {'bootstrap_type': 'Bernoulli', 'boosting_type': 'Plain', 'od_type': 'Iter', 'colsample_bylevel': 0.03972693170715833, 'l2_leaf_reg': 1.0391453380836638e-07, 'learning_rate': 0.14398265004448105, 'iterations': 559, 'min_child_samples': 31, 'depth': 12, 'subsample': 0.5595775852873337}. Best is trial 5 with value: 0.9688990128426042.\u001b[0m\n"
     ]
    },
    {
     "name": "stdout",
     "output_type": "stream",
     "text": [
      "metric type: f1, score: 0.96154\n",
      "metric type: f1, score: 0.94317\n",
      "metric type: f1, score: 0.96226\n"
     ]
    }
   ],
   "source": [
    "model = models.CatBoostClassifierOptuna()\n",
    "preds = model.optimize(train_x, train_y, eval_metric='accuracy', n_trials=3)"
   ]
  },
  {
   "cell_type": "code",
   "execution_count": null,
   "id": "6a9cf37b",
   "metadata": {},
   "outputs": [],
   "source": []
  },
  {
   "cell_type": "code",
   "execution_count": null,
   "id": "8677fd72",
   "metadata": {},
   "outputs": [],
   "source": []
  },
  {
   "cell_type": "code",
   "execution_count": null,
   "id": "606cffe6",
   "metadata": {},
   "outputs": [],
   "source": []
  },
  {
   "cell_type": "code",
   "execution_count": 13,
   "id": "12145498",
   "metadata": {},
   "outputs": [],
   "source": []
  },
  {
   "cell_type": "code",
   "execution_count": 14,
   "id": "cfb4f69d",
   "metadata": {},
   "outputs": [],
   "source": [
    "submit = pd.read_csv('./sample_submission.csv')\n",
    "submit['class'] = class_le.inverse_transform(preds)\n",
    "submit.to_csv('./answer/submit_catboost.csv', index=False)"
   ]
  },
  {
   "cell_type": "code",
   "execution_count": null,
   "id": "97ed649a",
   "metadata": {},
   "outputs": [],
   "source": []
  }
 ],
 "metadata": {
  "kernelspec": {
   "display_name": "Python 3 (ipykernel)",
   "language": "python",
   "name": "python3"
  },
  "language_info": {
   "codemirror_mode": {
    "name": "ipython",
    "version": 3
   },
   "file_extension": ".py",
   "mimetype": "text/x-python",
   "name": "python",
   "nbconvert_exporter": "python",
   "pygments_lexer": "ipython3",
   "version": "3.7.13"
  }
 },
 "nbformat": 4,
 "nbformat_minor": 5
}
