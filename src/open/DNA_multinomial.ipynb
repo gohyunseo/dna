{
 "cells": [
  {
   "cell_type": "code",
   "execution_count": 1,
   "id": "647cef6e",
   "metadata": {},
   "outputs": [],
   "source": [
    "import pandas as pd\n",
    "import random\n",
    "import os\n",
    "import numpy as np\n",
    "\n",
    "from sklearn import preprocessing\n",
    "from sklearn.ensemble import RandomForestClassifier\n",
    "\n",
    "class CFG:\n",
    "    SEED = 42\n",
    "    \n",
    "def seed_everything(seed):\n",
    "    random.seed(seed)\n",
    "    os.environ['PYTHONHASHSEED'] = str(seed)\n",
    "    np.random.seed(seed)\n",
    "seed_everything(CFG.SEED) # Seed 고정"
   ]
  },
  {
   "cell_type": "code",
   "execution_count": 2,
   "id": "3d3ae109",
   "metadata": {},
   "outputs": [],
   "source": [
    "train = pd.read_csv('./train.csv')\n",
    "test = pd.read_csv('./test.csv')"
   ]
  },
  {
   "cell_type": "markdown",
   "id": "840d43ba",
   "metadata": {},
   "source": [
    "## Data Pre-processing\n",
    "### Label-Encoding"
   ]
  },
  {
   "cell_type": "code",
   "execution_count": null,
   "id": "cfc88531",
   "metadata": {},
   "outputs": [],
   "source": [
    "class_le = preprocessing.LabelEncoder()\n",
    "snp_le = preprocessing.LabelEncoder()\n",
    "snp_col = [f'SNP_{str(x).zfill(2)}' for x in range(1,16)]"
   ]
  },
  {
   "cell_type": "code",
   "execution_count": null,
   "id": "0905f782",
   "metadata": {},
   "outputs": [],
   "source": [
    "snp_data = []\n",
    "for col in snp_col:\n",
    "    snp_data += list(x_train[col].values)"
   ]
  },
  {
   "cell_type": "code",
   "execution_count": null,
   "id": "36f6f10c",
   "metadata": {},
   "outputs": [],
   "source": [
    "y_train = class_le.fit_transform(y_train)\n",
    "snp_le.fit(snp_data)"
   ]
  },
  {
   "cell_type": "code",
   "execution_count": null,
   "id": "6b426ec3",
   "metadata": {},
   "outputs": [],
   "source": [
    "for col in x_train.columns:\n",
    "    if col in snp_col:\n",
    "        x_train[col] = snp_le.transform(x_train[col])\n",
    "        x_test[col] = snp_le.transform(x_test[col])"
   ]
  },
  {
   "cell_type": "code",
   "execution_count": null,
   "id": "466941f2",
   "metadata": {},
   "outputs": [],
   "source": []
  }
 ],
 "metadata": {
  "kernelspec": {
   "display_name": "Python 3 (ipykernel)",
   "language": "python",
   "name": "python3"
  },
  "language_info": {
   "codemirror_mode": {
    "name": "ipython",
    "version": 3
   },
   "file_extension": ".py",
   "mimetype": "text/x-python",
   "name": "python",
   "nbconvert_exporter": "python",
   "pygments_lexer": "ipython3",
   "version": "3.7.13"
  }
 },
 "nbformat": 4,
 "nbformat_minor": 5
}
