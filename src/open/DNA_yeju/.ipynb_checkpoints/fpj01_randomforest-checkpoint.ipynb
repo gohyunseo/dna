{
 "cells": [
  {
   "cell_type": "markdown",
   "id": "c4727259",
   "metadata": {},
   "source": [
    "# Import"
   ]
  },
  {
   "cell_type": "code",
   "execution_count": 3,
   "id": "a665c9b2",
   "metadata": {},
   "outputs": [],
   "source": [
    "# 필요한 라이브러리 임포트\n",
    "\n",
    "import pandas as pd\n",
    "import random\n",
    "import os\n",
    "import numpy as np\n",
    "\n",
    "from sklearn import preprocessing\n",
    "from sklearn.ensemble import RandomForestClassifier\n",
    "\n",
    "from sklearn.model_selection import GridSearchCV"
   ]
  },
  {
   "cell_type": "code",
   "execution_count": 4,
   "id": "369e83fd",
   "metadata": {},
   "outputs": [],
   "source": [
    "# 시드값 고정을 위한 클래스 정의.\n",
    "\n",
    "class CFG:\n",
    "    SEED = 42"
   ]
  },
  {
   "cell_type": "code",
   "execution_count": 5,
   "id": "854a78dc",
   "metadata": {},
   "outputs": [],
   "source": [
    "# 시드값 호출을 위한 함수 정의.\n",
    "\n",
    "def seed_everything(seed):\n",
    "    random.seed(seed)\n",
    "    os.environ['PYTHONHASHSEED'] = str(seed)\n",
    "    np.random.seed(seed)\n",
    "seed_everything(CFG.SEED) # Seed 고정"
   ]
  },
  {
   "cell_type": "markdown",
   "id": "cfeeec87",
   "metadata": {},
   "source": [
    "# Data Load"
   ]
  },
  {
   "cell_type": "code",
   "execution_count": 6,
   "id": "4d92d9b4",
   "metadata": {},
   "outputs": [],
   "source": [
    "# 학습 데이터와 테스트 데이터 불러오기.\n",
    "\n",
    "train = pd.read_csv('open/train.csv')\n",
    "test = pd.read_csv('open/test.csv')"
   ]
  },
  {
   "cell_type": "code",
   "execution_count": 7,
   "id": "1438b773",
   "metadata": {},
   "outputs": [
    {
     "name": "stdout",
     "output_type": "stream",
     "text": [
      "2    193\n",
      "1     69\n",
      "Name: trait, dtype: int64\n",
      "--------------\n",
      "B    114\n",
      "C     79\n",
      "A     69\n",
      "Name: class, dtype: int64\n",
      "--------------\n"
     ]
    }
   ],
   "source": [
    "# trait과 class 피쳐의 특징 파악.\n",
    "\n",
    "print(train['trait'].value_counts())\n",
    "print('--------------')\n",
    "\n",
    "print(train['class'].value_counts())\n",
    "print('--------------')"
   ]
  },
  {
   "cell_type": "code",
   "execution_count": 7,
   "id": "02d0c9f2",
   "metadata": {},
   "outputs": [],
   "source": [
    "# 학습 데이터와 테스트 데이터를 동일한 형태로 만들어 주기 위해 전처리 가능한 함수 정의.\n",
    "\n",
    "def get_x_y(df):\n",
    "    if 'class' in df.columns:\n",
    "        df_x = df.drop(columns=['id', 'class'])\n",
    "        df_y = df['class']\n",
    "        return df_x, df_y\n",
    "    else:\n",
    "        df_x = df.drop(columns=['id'])\n",
    "        return df_x"
   ]
  },
  {
   "cell_type": "code",
   "execution_count": 8,
   "id": "0de26fa8",
   "metadata": {},
   "outputs": [],
   "source": [
    "# 함수를 이용해서 학습 데이터와 테스트 데이터 전처리 진행.\n",
    "\n",
    "train_x, train_y = get_x_y(train)\n",
    "test_x = get_x_y(test)"
   ]
  },
  {
   "cell_type": "markdown",
   "id": "24df8712",
   "metadata": {},
   "source": [
    "# Data Pre-processing\n",
    "### Label-Encoding"
   ]
  },
  {
   "cell_type": "code",
   "execution_count": 9,
   "id": "51145eaf",
   "metadata": {},
   "outputs": [
    {
     "name": "stdout",
     "output_type": "stream",
     "text": [
      "['SNP_01', 'SNP_02', 'SNP_03', 'SNP_04', 'SNP_05', 'SNP_06', 'SNP_07', 'SNP_08', 'SNP_09', 'SNP_10', 'SNP_11', 'SNP_12', 'SNP_13', 'SNP_14', 'SNP_15']\n"
     ]
    }
   ],
   "source": [
    "# 머신러닝 학습을 위한 문자열 데이터를 숫자 데이터로 변경하기 위해 LabelEncode() 선언.\n",
    "\n",
    "class_le = preprocessing.LabelEncoder()\n",
    "snp_le = preprocessing.LabelEncoder()\n",
    "\n",
    "# 유전체의 염기서열을 담고 있는 칼럼들을 snp_col의 이름으로 지정.\n",
    "\n",
    "snp_col = [f'SNP_{str(x).zfill(2)}' for x in range(1,16)]\n",
    "print(snp_col)"
   ]
  },
  {
   "cell_type": "code",
   "execution_count": 10,
   "id": "d9fab945",
   "metadata": {},
   "outputs": [],
   "source": [
    "# snp_col 칼럼의 데이터들을 snp_data 이름의 배열에 저장.\n",
    "\n",
    "snp_data = []\n",
    "for col in snp_col:\n",
    "    snp_data += list(train_x[col].values)"
   ]
  },
  {
   "cell_type": "code",
   "execution_count": 11,
   "id": "88c02e48",
   "metadata": {},
   "outputs": [
    {
     "data": {
      "text/plain": [
       "LabelEncoder()"
      ]
     },
     "execution_count": 11,
     "metadata": {},
     "output_type": "execute_result"
    }
   ],
   "source": [
    "# 문자열 데이터들을 모두 숫자 데이터로 변경.\n",
    "\n",
    "train_y = class_le.fit_transform(train_y)\n",
    "snp_le.fit(snp_data)"
   ]
  },
  {
   "cell_type": "code",
   "execution_count": 12,
   "id": "10d18d39",
   "metadata": {},
   "outputs": [],
   "source": [
    "for col in train_x.columns:\n",
    "    if col in snp_col:\n",
    "        train_x[col] = snp_le.transform(train_x[col])\n",
    "        test_x[col] = snp_le.transform(test_x[col])"
   ]
  },
  {
   "cell_type": "markdown",
   "id": "ecdd616e",
   "metadata": {},
   "source": [
    "# Model Fit_1"
   ]
  },
  {
   "cell_type": "code",
   "execution_count": 13,
   "id": "c015a733",
   "metadata": {},
   "outputs": [
    {
     "data": {
      "text/plain": [
       "RandomForestClassifier(random_state=42)"
      ]
     },
     "execution_count": 13,
     "metadata": {},
     "output_type": "execute_result"
    }
   ],
   "source": [
    "# 학습 데이터로 모델 학습.\n",
    "\n",
    "clf = RandomForestClassifier(random_state=CFG.SEED)\n",
    "clf.fit(train_x, train_y)"
   ]
  },
  {
   "cell_type": "markdown",
   "id": "774a5ee9",
   "metadata": {},
   "source": [
    "# Inference"
   ]
  },
  {
   "cell_type": "code",
   "execution_count": 14,
   "id": "c8a8ea90",
   "metadata": {},
   "outputs": [
    {
     "name": "stdout",
     "output_type": "stream",
     "text": [
      "Done.\n"
     ]
    }
   ],
   "source": [
    "preds = clf.predict(test_x)\n",
    "print('Done.')"
   ]
  },
  {
   "cell_type": "markdown",
   "id": "42793a51",
   "metadata": {},
   "source": [
    "-. 이렇게 학습한 데이터로 테스트 데이터를 모델에 돌려서 정답 추출 후 사이트에 제출하면 0.9622367466의 정확도가 나온다."
   ]
  },
  {
   "cell_type": "markdown",
   "id": "bce9dbd3",
   "metadata": {},
   "source": [
    "# Submission"
   ]
  },
  {
   "cell_type": "code",
   "execution_count": 26,
   "id": "b95aa3f0",
   "metadata": {},
   "outputs": [],
   "source": [
    "submit = pd.read_csv('open/sample_submission.csv')"
   ]
  },
  {
   "cell_type": "code",
   "execution_count": 27,
   "id": "c793783a",
   "metadata": {},
   "outputs": [],
   "source": [
    "submit['class'] = class_le.inverse_transform(preds)"
   ]
  },
  {
   "cell_type": "code",
   "execution_count": 28,
   "id": "2a022304",
   "metadata": {},
   "outputs": [],
   "source": [
    "submit.to_csv('./answer/submit.csv', index=False)"
   ]
  },
  {
   "cell_type": "markdown",
   "id": "af3d0828",
   "metadata": {},
   "source": [
    "# Model Fit_2"
   ]
  },
  {
   "cell_type": "code",
   "execution_count": 24,
   "id": "bf25e4d4",
   "metadata": {},
   "outputs": [
    {
     "name": "stdout",
     "output_type": "stream",
     "text": [
      "최적 하이퍼 파라미터:  {'max_depth': 6, 'min_samples_leaf': 8, 'min_samples_split': 20, 'n_estimators': 100}\n",
      "최고 예측 정확도: 0.9274\n"
     ]
    }
   ],
   "source": [
    "# 하이퍼파리미터 값을 먼저 임의로 설정하여 모델 생성 후 학습하고 GridSearchCV를 통해 최적의 하이퍼 파라미터 값 구하기.\n",
    "\n",
    "params = { 'n_estimators' : [10, 100],\n",
    "           'max_depth' : [6, 8, 10, 12],\n",
    "           'min_samples_leaf' : [8, 12, 18],\n",
    "           'min_samples_split' : [8, 16, 20]\n",
    "            }\n",
    "\n",
    "# RandomForestClassifier 객체 생성 후 GridSearchCV 수행\n",
    "rf_clf = RandomForestClassifier(random_state = 0, n_jobs = -1)\n",
    "grid_cv = GridSearchCV(rf_clf, param_grid = params, cv = 3, n_jobs = -1)\n",
    "grid_cv.fit(train_x, train_y)\n",
    "\n",
    "print('최적 하이퍼 파라미터: ', grid_cv.best_params_)\n",
    "print('최고 예측 정확도: {:.4f}'.format(grid_cv.best_score_))"
   ]
  },
  {
   "cell_type": "code",
   "execution_count": 25,
   "id": "d6cb75f0",
   "metadata": {},
   "outputs": [],
   "source": [
    "#위의 결과로 나온 최적 하이퍼 파라미터로 다시 모델을 학습하여 테스트 세트 데이터에서 예측 성능을 측정\n",
    "rf_clf1 = RandomForestClassifier(n_estimators = 100, \n",
    "                                max_depth = 6,\n",
    "                                min_samples_leaf = 8,\n",
    "                                min_samples_split = 20,\n",
    "                                random_state = 0,\n",
    "                                n_jobs = -1)\n",
    "rf_clf1.fit(train_x, train_y)\n",
    "pred = rf_clf1.predict(test_x)"
   ]
  },
  {
   "cell_type": "markdown",
   "id": "75f9a85f",
   "metadata": {},
   "source": [
    "-. 역시 학습한 데이터로 만든 모델에서의 테스트 데이터 예측 결과 제출에 따른 정확도는 0.9523722293 이렇게 나왔다."
   ]
  },
  {
   "cell_type": "markdown",
   "id": "30d4eae0",
   "metadata": {},
   "source": [
    "# Submission"
   ]
  },
  {
   "cell_type": "code",
   "execution_count": 26,
   "id": "c4fbdfba",
   "metadata": {},
   "outputs": [],
   "source": [
    "submit = pd.read_csv('open/sample_submission.csv')"
   ]
  },
  {
   "cell_type": "code",
   "execution_count": 27,
   "id": "c4a29fad",
   "metadata": {},
   "outputs": [],
   "source": [
    "submit['class'] = class_le.inverse_transform(pred)"
   ]
  },
  {
   "cell_type": "code",
   "execution_count": 28,
   "id": "cde1e452",
   "metadata": {},
   "outputs": [],
   "source": [
    "submit.to_csv('./answer/submit.csv', index=False)"
   ]
  }
 ],
 "metadata": {
  "kernelspec": {
   "display_name": "Python 3 (ipykernel)",
   "language": "python",
   "name": "python3"
  },
  "language_info": {
   "codemirror_mode": {
    "name": "ipython",
    "version": 3
   },
   "file_extension": ".py",
   "mimetype": "text/x-python",
   "name": "python",
   "nbconvert_exporter": "python",
   "pygments_lexer": "ipython3",
   "version": "3.7.13"
  }
 },
 "nbformat": 4,
 "nbformat_minor": 5
}
