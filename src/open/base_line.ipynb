{
 "cells": [
  {
   "cell_type": "markdown",
   "id": "b9a78769",
   "metadata": {},
   "source": [
    "## 임포트"
   ]
  },
  {
   "cell_type": "code",
   "execution_count": 1,
   "id": "9577f9b6",
   "metadata": {},
   "outputs": [],
   "source": [
    "import pandas as pd\n",
    "import random\n",
    "import os\n",
    "import numpy as np\n",
    "\n",
    "from sklearn import preprocessing\n",
    "from sklearn.ensemble import RandomForestClassifier"
   ]
  },
  {
   "cell_type": "code",
   "execution_count": 2,
   "id": "c6b092e1",
   "metadata": {},
   "outputs": [],
   "source": [
    "class CFG:\n",
    "    SEED = 42"
   ]
  },
  {
   "cell_type": "code",
   "execution_count": 3,
   "id": "c2ce1127",
   "metadata": {},
   "outputs": [],
   "source": [
    "def seed_everything(seed):\n",
    "    random.seed(seed)\n",
    "    os.environ['PYTHONHASHSEED'] = str(seed)\n",
    "    np.random.seed(seed)\n",
    "seed_everything(CFG.SEED) # Seed 고정"
   ]
  },
  {
   "cell_type": "markdown",
   "id": "fd420c4d",
   "metadata": {},
   "source": [
    "## 데이터 불러오기"
   ]
  },
  {
   "cell_type": "code",
   "execution_count": 4,
   "id": "db729b14",
   "metadata": {},
   "outputs": [],
   "source": [
    "train = pd.read_csv('./train.csv')\n",
    "test = pd.read_csv('./test.csv')"
   ]
  },
  {
   "cell_type": "code",
   "execution_count": 5,
   "id": "74ecea5c",
   "metadata": {},
   "outputs": [],
   "source": [
    "def get_x_y(df):\n",
    "    if 'class' in df.columns:\n",
    "        df_x = df.drop(columns=['id', 'class'])\n",
    "        df_y = df['class']\n",
    "        return df_x, df_y\n",
    "    else:\n",
    "        df_x = df.drop(columns=['id'])\n",
    "        return df_x"
   ]
  },
  {
   "cell_type": "code",
   "execution_count": 6,
   "id": "8b3f1ea7",
   "metadata": {},
   "outputs": [],
   "source": [
    "train_x, train_y = get_x_y(train)\n",
    "test_x = get_x_y(test)"
   ]
  },
  {
   "cell_type": "code",
   "execution_count": 20,
   "id": "31591cf8",
   "metadata": {},
   "outputs": [
    {
     "ename": "AttributeError",
     "evalue": "'numpy.ndarray' object has no attribute 'dtypes'",
     "output_type": "error",
     "traceback": [
      "\u001b[1;31m---------------------------------------------------------------------------\u001b[0m",
      "\u001b[1;31mAttributeError\u001b[0m                            Traceback (most recent call last)",
      "\u001b[1;32m~\\AppData\\Local\\Temp\\ipykernel_12160\\2996138158.py\u001b[0m in \u001b[0;36m<module>\u001b[1;34m\u001b[0m\n\u001b[1;32m----> 1\u001b[1;33m \u001b[0mtrain_y\u001b[0m\u001b[1;33m.\u001b[0m\u001b[0mdtypes\u001b[0m\u001b[1;33m\u001b[0m\u001b[1;33m\u001b[0m\u001b[0m\n\u001b[0m",
      "\u001b[1;31mAttributeError\u001b[0m: 'numpy.ndarray' object has no attribute 'dtypes'"
     ]
    }
   ],
   "source": []
  },
  {
   "cell_type": "markdown",
   "id": "db091260",
   "metadata": {},
   "source": [
    "## Data Pre-processing\n",
    "### Label-Encoding"
   ]
  },
  {
   "cell_type": "code",
   "execution_count": 7,
   "id": "bf0513b3",
   "metadata": {},
   "outputs": [],
   "source": [
    "class_le = preprocessing.LabelEncoder()\n",
    "snp_le = preprocessing.LabelEncoder()\n",
    "snp_col = [f'SNP_{str(x).zfill(2)}' for x in range(1,16)]"
   ]
  },
  {
   "cell_type": "code",
   "execution_count": 8,
   "id": "d7ee582c",
   "metadata": {},
   "outputs": [],
   "source": [
    "snp_data = []\n",
    "for col in snp_col:\n",
    "    snp_data += list(train_x[col].values)"
   ]
  },
  {
   "cell_type": "code",
   "execution_count": 9,
   "id": "30ef064f",
   "metadata": {},
   "outputs": [
    {
     "data": {
      "text/plain": [
       "LabelEncoder()"
      ]
     },
     "execution_count": 9,
     "metadata": {},
     "output_type": "execute_result"
    }
   ],
   "source": [
    "train_y = class_le.fit_transform(train_y)\n",
    "snp_le.fit(snp_data)"
   ]
  },
  {
   "cell_type": "code",
   "execution_count": 10,
   "id": "50b9af82",
   "metadata": {},
   "outputs": [],
   "source": [
    "for col in train_x.columns:\n",
    "    if col in snp_col:\n",
    "        train_x[col] = snp_le.transform(train_x[col])\n",
    "        test_x[col] = snp_le.transform(test_x[col])"
   ]
  },
  {
   "cell_type": "markdown",
   "id": "f4b8fed3",
   "metadata": {},
   "source": [
    "## Model Fit"
   ]
  },
  {
   "cell_type": "code",
   "execution_count": 11,
   "id": "15eaa976",
   "metadata": {},
   "outputs": [
    {
     "data": {
      "text/plain": [
       "RandomForestClassifier(random_state=42)"
      ]
     },
     "execution_count": 11,
     "metadata": {},
     "output_type": "execute_result"
    }
   ],
   "source": [
    "clf = RandomForestClassifier(random_state=CFG.SEED)\n",
    "clf.fit(train_x, train_y)"
   ]
  },
  {
   "cell_type": "markdown",
   "id": "8b543653",
   "metadata": {},
   "source": [
    "## Inference"
   ]
  },
  {
   "cell_type": "code",
   "execution_count": 12,
   "id": "691ec7b0",
   "metadata": {},
   "outputs": [
    {
     "name": "stdout",
     "output_type": "stream",
     "text": [
      "Done.\n"
     ]
    }
   ],
   "source": [
    "preds = clf.predict(test_x)\n",
    "print('Done.')"
   ]
  },
  {
   "cell_type": "code",
   "execution_count": 13,
   "id": "c81497f9",
   "metadata": {},
   "outputs": [],
   "source": [
    "submit = pd.read_csv('./sample_submission.csv')"
   ]
  },
  {
   "cell_type": "code",
   "execution_count": 14,
   "id": "e57accdc",
   "metadata": {},
   "outputs": [],
   "source": [
    "submit['class'] = class_le.inverse_transform(preds)"
   ]
  },
  {
   "cell_type": "code",
   "execution_count": 17,
   "id": "de71bcbe",
   "metadata": {},
   "outputs": [],
   "source": [
    "submit.to_csv('./answer/submit.csv', index=False)"
   ]
  },
  {
   "cell_type": "code",
   "execution_count": null,
   "id": "4d160173",
   "metadata": {},
   "outputs": [],
   "source": []
  }
 ],
 "metadata": {
  "kernelspec": {
   "display_name": "Python 3 (ipykernel)",
   "language": "python",
   "name": "python3"
  },
  "language_info": {
   "codemirror_mode": {
    "name": "ipython",
    "version": 3
   },
   "file_extension": ".py",
   "mimetype": "text/x-python",
   "name": "python",
   "nbconvert_exporter": "python",
   "pygments_lexer": "ipython3",
   "version": "3.7.13"
  }
 },
 "nbformat": 4,
 "nbformat_minor": 5
}
