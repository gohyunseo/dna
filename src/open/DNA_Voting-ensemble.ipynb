{
 "cells": [
  {
   "cell_type": "code",
   "execution_count": 24,
   "id": "1f62a069",
   "metadata": {},
   "outputs": [],
   "source": [
    "#라이브러리 임포트 \n",
    "from sklearn import datasets\n",
    "from sklearn import preprocessing\n",
    "from sklearn.tree import DecisionTreeClassifier\n",
    "from sklearn.neighbors import KNeighborsClassifier\n",
    "from sklearn.svm import SVC\n",
    "from sklearn.ensemble import VotingClassifier\n",
    "from sklearn.model_selection import train_test_split\n",
    "from sklearn.metrics import accuracy_score\n",
    "from sklearn.ensemble import RandomForestClassifier\n",
    "import numpy as np\n",
    "import pandas as pd\n",
    "\n",
    "np.random.seed(5)\n",
    "\n",
    "class CFG:\n",
    "    SEED = 42"
   ]
  },
  {
   "cell_type": "code",
   "execution_count": 2,
   "id": "c680b771",
   "metadata": {},
   "outputs": [],
   "source": [
    "train = pd.read_csv('train.csv')\n",
    "test = pd.read_csv('test.csv')"
   ]
  },
  {
   "cell_type": "code",
   "execution_count": 3,
   "id": "d6032d5e",
   "metadata": {},
   "outputs": [],
   "source": [
    "train_df = pd.DataFrame(train)\n",
    "test_df = pd.DataFrame(test)"
   ]
  },
  {
   "cell_type": "code",
   "execution_count": 4,
   "id": "207c5c87",
   "metadata": {},
   "outputs": [],
   "source": [
    "x_train =  train_df[['trait', 'SNP_01', 'SNP_02', 'SNP_03', 'SNP_04', 'SNP_05', 'SNP_06', 'SNP_07', 'SNP_08', 'SNP_09',\n",
    "                    'SNP_10', 'SNP_11', 'SNP_12', 'SNP_13', 'SNP_14', 'SNP_15',]]\n",
    "y_train = train_df[['class']]\n",
    "\n",
    "x_test =  test_df[['trait', 'SNP_01', 'SNP_02', 'SNP_03', 'SNP_04', 'SNP_05', 'SNP_06', 'SNP_07', 'SNP_08', 'SNP_09',\n",
    "                    'SNP_10', 'SNP_11', 'SNP_12', 'SNP_13', 'SNP_14', 'SNP_15',]]"
   ]
  },
  {
   "cell_type": "markdown",
   "id": "79dfbce5",
   "metadata": {},
   "source": [
    "## Data Pre-processing\n",
    "### Label-Encoding"
   ]
  },
  {
   "cell_type": "code",
   "execution_count": 5,
   "id": "10d1bafb",
   "metadata": {},
   "outputs": [],
   "source": [
    "class_le = preprocessing.LabelEncoder()\n",
    "snp_le = preprocessing.LabelEncoder()\n",
    "snp_col = [f'SNP_{str(x).zfill(2)}' for x in range(1,16)]"
   ]
  },
  {
   "cell_type": "code",
   "execution_count": 6,
   "id": "b942a519",
   "metadata": {},
   "outputs": [],
   "source": [
    "snp_data = []\n",
    "for col in snp_col:\n",
    "    snp_data += list(x_train[col].values)"
   ]
  },
  {
   "cell_type": "code",
   "execution_count": 7,
   "id": "f4a907c5",
   "metadata": {},
   "outputs": [
    {
     "name": "stderr",
     "output_type": "stream",
     "text": [
      "C:\\ProgramData\\Anaconda3\\envs\\tf_cpu\\lib\\site-packages\\sklearn\\preprocessing\\_label.py:115: DataConversionWarning: A column-vector y was passed when a 1d array was expected. Please change the shape of y to (n_samples, ), for example using ravel().\n",
      "  y = column_or_1d(y, warn=True)\n"
     ]
    },
    {
     "data": {
      "text/plain": [
       "LabelEncoder()"
      ]
     },
     "execution_count": 7,
     "metadata": {},
     "output_type": "execute_result"
    }
   ],
   "source": [
    "y_train = class_le.fit_transform(y_train)\n",
    "snp_le.fit(snp_data)"
   ]
  },
  {
   "cell_type": "code",
   "execution_count": 8,
   "id": "0fa86335",
   "metadata": {},
   "outputs": [
    {
     "name": "stderr",
     "output_type": "stream",
     "text": [
      "C:\\ProgramData\\Anaconda3\\envs\\tf_cpu\\lib\\site-packages\\ipykernel_launcher.py:3: SettingWithCopyWarning: \n",
      "A value is trying to be set on a copy of a slice from a DataFrame.\n",
      "Try using .loc[row_indexer,col_indexer] = value instead\n",
      "\n",
      "See the caveats in the documentation: https://pandas.pydata.org/pandas-docs/stable/user_guide/indexing.html#returning-a-view-versus-a-copy\n",
      "  This is separate from the ipykernel package so we can avoid doing imports until\n",
      "C:\\ProgramData\\Anaconda3\\envs\\tf_cpu\\lib\\site-packages\\ipykernel_launcher.py:4: SettingWithCopyWarning: \n",
      "A value is trying to be set on a copy of a slice from a DataFrame.\n",
      "Try using .loc[row_indexer,col_indexer] = value instead\n",
      "\n",
      "See the caveats in the documentation: https://pandas.pydata.org/pandas-docs/stable/user_guide/indexing.html#returning-a-view-versus-a-copy\n",
      "  after removing the cwd from sys.path.\n"
     ]
    }
   ],
   "source": [
    "for col in x_train.columns:\n",
    "    if col in snp_col:\n",
    "        x_train[col] = snp_le.transform(x_train[col])\n",
    "        x_test[col] = snp_le.transform(x_test[col])"
   ]
  },
  {
   "cell_type": "code",
   "execution_count": 10,
   "id": "f912402f",
   "metadata": {},
   "outputs": [
    {
     "data": {
      "text/plain": [
       "trait     int64\n",
       "SNP_01    int32\n",
       "SNP_02    int32\n",
       "SNP_03    int32\n",
       "SNP_04    int32\n",
       "SNP_05    int32\n",
       "SNP_06    int32\n",
       "SNP_07    int32\n",
       "SNP_08    int32\n",
       "SNP_09    int32\n",
       "SNP_10    int32\n",
       "SNP_11    int32\n",
       "SNP_12    int32\n",
       "SNP_13    int32\n",
       "SNP_14    int32\n",
       "SNP_15    int32\n",
       "dtype: object"
      ]
     },
     "execution_count": 10,
     "metadata": {},
     "output_type": "execute_result"
    }
   ],
   "source": [
    "x_train.dtypes"
   ]
  },
  {
   "cell_type": "markdown",
   "id": "629fdeeb",
   "metadata": {},
   "source": [
    "## 단일 모델 정확도 측정\n",
    "### 의사결정트리, knn, svm 모델의 정확도 측정."
   ]
  },
  {
   "cell_type": "code",
   "execution_count": 11,
   "id": "b88ad73d",
   "metadata": {},
   "outputs": [
    {
     "data": {
      "text/plain": [
       "array([0, 1, 2, 1, 0, 1, 2, 2, 0, 0, 2, 1, 1, 0, 1, 1, 0, 1, 1, 2, 1, 1,\n",
       "       2, 0, 1, 2, 1, 0, 0, 1, 0, 0, 1, 2, 0, 2, 2, 1, 1, 2, 0, 1, 2, 1,\n",
       "       1, 1, 1, 2, 1, 2, 0, 1, 0, 1, 1, 1, 2, 0, 1, 2, 0, 1, 2, 2, 2, 0,\n",
       "       1, 0, 0, 1, 1, 1, 0, 0, 2, 1, 2, 1, 1, 1, 2, 1, 0, 1, 1, 1, 1, 1,\n",
       "       2, 0, 1, 1, 2, 1, 1, 2, 0, 1, 0, 2, 0, 1, 1, 2, 0, 0, 2, 1, 0, 1,\n",
       "       2, 1, 1, 1, 1, 0, 0, 2, 1, 1, 0, 1, 1, 2, 2, 1, 2, 1, 0, 1, 0, 0,\n",
       "       1, 1, 1, 2, 0, 0, 1, 0, 0, 0, 2, 1, 1, 2, 0, 1, 2, 0, 0, 1, 0, 1,\n",
       "       1, 0, 0, 1, 2, 0, 1, 2, 2, 1, 0, 0, 2, 1, 1, 0, 1, 2, 2, 1, 1])"
      ]
     },
     "execution_count": 11,
     "metadata": {},
     "output_type": "execute_result"
    }
   ],
   "source": [
    "dtree = DecisionTreeClassifier(random_state= CFG.SEED) #그리드서치해서 나온값\n",
    "\n",
    "dtree = dtree.fit(x_train, y_train)\n",
    "\n",
    "dtree_predicted = dtree.predict(x_test)\n",
    "\n",
    "dtree_predicted"
   ]
  },
  {
   "cell_type": "code",
   "execution_count": 12,
   "id": "6a911f89",
   "metadata": {},
   "outputs": [
    {
     "data": {
      "text/plain": [
       "array([0, 1, 2, 1, 0, 1, 2, 1, 0, 0, 2, 1, 1, 0, 1, 1, 0, 1, 1, 2, 1, 1,\n",
       "       1, 0, 1, 1, 1, 0, 0, 1, 0, 0, 1, 1, 0, 1, 2, 1, 1, 2, 0, 1, 2, 1,\n",
       "       1, 1, 1, 1, 1, 2, 0, 1, 0, 1, 1, 1, 2, 0, 1, 2, 0, 1, 2, 2, 2, 0,\n",
       "       1, 0, 0, 1, 1, 1, 0, 0, 2, 1, 2, 1, 1, 1, 2, 1, 0, 1, 1, 1, 1, 1,\n",
       "       2, 0, 1, 1, 1, 1, 1, 2, 0, 1, 0, 2, 0, 1, 1, 2, 0, 0, 2, 1, 0, 1,\n",
       "       2, 1, 1, 1, 1, 0, 0, 2, 1, 1, 0, 1, 1, 2, 2, 1, 1, 1, 0, 1, 0, 0,\n",
       "       1, 1, 1, 2, 0, 0, 1, 0, 0, 0, 2, 1, 1, 1, 0, 1, 2, 0, 0, 1, 0, 1,\n",
       "       1, 0, 0, 1, 2, 0, 1, 2, 2, 1, 0, 0, 2, 1, 1, 0, 1, 2, 2, 1, 1])"
      ]
     },
     "execution_count": 12,
     "metadata": {},
     "output_type": "execute_result"
    }
   ],
   "source": [
    "knn = KNeighborsClassifier(n_neighbors = 26).fit(x_train, y_train) \n",
    "knn_predicted = knn.predict(x_test) \n",
    "knn_predicted"
   ]
  },
  {
   "cell_type": "code",
   "execution_count": 13,
   "id": "fd20f467",
   "metadata": {},
   "outputs": [
    {
     "data": {
      "text/plain": [
       "array([0, 1, 1, 1, 0, 1, 1, 1, 0, 0, 1, 1, 1, 0, 1, 1, 0, 1, 1, 1, 1, 1,\n",
       "       1, 0, 1, 1, 1, 0, 0, 1, 0, 0, 1, 1, 0, 1, 1, 1, 1, 1, 0, 1, 1, 1,\n",
       "       1, 1, 1, 1, 1, 1, 0, 1, 0, 1, 1, 1, 2, 0, 1, 2, 0, 1, 1, 1, 1, 0,\n",
       "       1, 0, 0, 1, 1, 1, 0, 0, 1, 1, 2, 1, 1, 1, 1, 1, 0, 1, 1, 1, 1, 1,\n",
       "       1, 0, 1, 1, 1, 1, 1, 1, 0, 1, 0, 1, 0, 1, 1, 1, 0, 0, 1, 1, 0, 1,\n",
       "       1, 1, 1, 1, 1, 0, 0, 1, 1, 1, 0, 1, 1, 1, 1, 1, 1, 1, 0, 1, 0, 0,\n",
       "       1, 1, 1, 1, 0, 0, 1, 0, 0, 0, 2, 1, 1, 1, 0, 1, 1, 0, 0, 1, 0, 1,\n",
       "       1, 0, 0, 1, 1, 0, 1, 1, 1, 1, 0, 0, 1, 1, 1, 0, 1, 1, 1, 1, 1])"
      ]
     },
     "execution_count": 13,
     "metadata": {},
     "output_type": "execute_result"
    }
   ],
   "source": [
    "svm = SVC(C=0.1, gamma=0.003, probability = True, random_state = CFG.SEED).fit(x_train, y_train) #그리드서치해서 나온값\n",
    "svm_predicted = svm.predict(x_test)\n",
    "svm_predicted"
   ]
  },
  {
   "cell_type": "code",
   "execution_count": 14,
   "id": "25d2c0f9",
   "metadata": {},
   "outputs": [],
   "source": [
    "submit = pd.read_csv('./sample_submission.csv')"
   ]
  },
  {
   "cell_type": "code",
   "execution_count": 16,
   "id": "db1f3333",
   "metadata": {},
   "outputs": [],
   "source": [
    "submit['class'] = class_le.inverse_transform(dtree_predicted)\n",
    "submit.to_csv('./answer/submit_dtree.csv', index=False)"
   ]
  },
  {
   "cell_type": "code",
   "execution_count": 17,
   "id": "3c4a745f",
   "metadata": {},
   "outputs": [],
   "source": [
    "submit['class'] = class_le.inverse_transform(knn_predicted)\n",
    "submit.to_csv('./answer/submit_knn.csv', index=False)"
   ]
  },
  {
   "cell_type": "code",
   "execution_count": 18,
   "id": "42a246ad",
   "metadata": {},
   "outputs": [],
   "source": [
    "submit['class'] = class_le.inverse_transform(svm_predicted)\n",
    "submit.to_csv('./answer/submit_svm.csv', index=False)"
   ]
  },
  {
   "cell_type": "markdown",
   "id": "9e5749c1",
   "metadata": {},
   "source": [
    "## 하드보팅"
   ]
  },
  {
   "cell_type": "code",
   "execution_count": 19,
   "id": "f68a9b70",
   "metadata": {},
   "outputs": [
    {
     "data": {
      "text/plain": [
       "array([0, 1, 2, 1, 0, 1, 2, 1, 0, 0, 2, 1, 1, 0, 1, 1, 0, 1, 1, 2, 1, 1,\n",
       "       1, 0, 1, 1, 1, 0, 0, 1, 0, 0, 1, 1, 0, 1, 2, 1, 1, 2, 0, 1, 2, 1,\n",
       "       1, 1, 1, 1, 1, 2, 0, 1, 0, 1, 1, 1, 2, 0, 1, 2, 0, 1, 2, 2, 2, 0,\n",
       "       1, 0, 0, 1, 1, 1, 0, 0, 2, 1, 2, 1, 1, 1, 2, 1, 0, 1, 1, 1, 1, 1,\n",
       "       2, 0, 1, 1, 1, 1, 1, 2, 0, 1, 0, 2, 0, 1, 1, 2, 0, 0, 2, 1, 0, 1,\n",
       "       2, 1, 1, 1, 1, 0, 0, 2, 1, 1, 0, 1, 1, 2, 2, 1, 1, 1, 0, 1, 0, 0,\n",
       "       1, 1, 1, 2, 0, 0, 1, 0, 0, 0, 2, 1, 1, 1, 0, 1, 2, 0, 0, 1, 0, 1,\n",
       "       1, 0, 0, 1, 2, 0, 1, 2, 2, 1, 0, 0, 2, 1, 1, 0, 1, 2, 2, 1, 1])"
      ]
     },
     "execution_count": 19,
     "metadata": {},
     "output_type": "execute_result"
    }
   ],
   "source": [
    "voting_clf = VotingClassifier(estimators=[('decision_tree', dtree), ('knn', knn), ('svm', svm)],\n",
    "                                 weights=[1, 1, 1], voting ='hard').fit(x_train, y_train)\n",
    "hard_voting_predicted = voting_clf.predict(x_test)\n",
    "hard_voting_predicted"
   ]
  },
  {
   "cell_type": "code",
   "execution_count": 20,
   "id": "53b05b11",
   "metadata": {},
   "outputs": [],
   "source": [
    "submit['class'] = class_le.inverse_transform(hard_voting_predicted)\n",
    "submit.to_csv('./answer/submit_hardvoting.csv', index=False)"
   ]
  },
  {
   "cell_type": "markdown",
   "id": "41e0acee",
   "metadata": {},
   "source": [
    "## 소프트보팅"
   ]
  },
  {
   "cell_type": "code",
   "execution_count": 21,
   "id": "6a564702",
   "metadata": {},
   "outputs": [
    {
     "data": {
      "text/plain": [
       "array([0, 1, 2, 1, 0, 1, 2, 1, 0, 0, 2, 1, 1, 0, 1, 1, 0, 1, 1, 2, 1, 1,\n",
       "       1, 0, 1, 1, 1, 0, 0, 1, 0, 0, 1, 2, 0, 2, 2, 1, 1, 2, 0, 1, 2, 1,\n",
       "       1, 1, 1, 2, 1, 2, 0, 1, 0, 1, 1, 1, 2, 0, 1, 2, 0, 1, 2, 2, 2, 0,\n",
       "       1, 0, 0, 1, 1, 1, 0, 0, 2, 1, 2, 1, 1, 1, 2, 1, 0, 1, 1, 1, 1, 1,\n",
       "       2, 0, 1, 1, 2, 1, 1, 2, 0, 1, 0, 2, 0, 1, 1, 2, 0, 0, 2, 1, 0, 1,\n",
       "       2, 1, 1, 1, 1, 0, 0, 2, 1, 1, 0, 1, 1, 2, 2, 1, 1, 1, 0, 1, 0, 0,\n",
       "       1, 1, 1, 2, 0, 0, 1, 0, 0, 0, 2, 1, 1, 2, 0, 1, 2, 0, 0, 1, 0, 1,\n",
       "       1, 0, 0, 1, 2, 0, 1, 2, 2, 1, 0, 0, 2, 1, 1, 0, 1, 2, 2, 1, 1])"
      ]
     },
     "execution_count": 21,
     "metadata": {},
     "output_type": "execute_result"
    }
   ],
   "source": [
    "voting_clf = VotingClassifier(estimators=[('decision_tree', dtree), ('knn', knn), ('svm', svm)],\n",
    "                                 weights=[1, 1, 1], voting ='soft').fit(x_train, y_train)\n",
    "soft_voting_predicted = voting_clf.predict(x_test)\n",
    "soft_voting_predicted"
   ]
  },
  {
   "cell_type": "code",
   "execution_count": 22,
   "id": "5c63d05c",
   "metadata": {},
   "outputs": [],
   "source": [
    "submit['class'] = class_le.inverse_transform(soft_voting_predicted)\n",
    "submit.to_csv('./answer/submit_softvoting.csv', index=False)"
   ]
  },
  {
   "cell_type": "markdown",
   "id": "d4aca7f8",
   "metadata": {},
   "source": [
    "## 랜덤포레스트 추가"
   ]
  },
  {
   "cell_type": "code",
   "execution_count": 25,
   "id": "b0201a08",
   "metadata": {},
   "outputs": [
    {
     "data": {
      "text/plain": [
       "array([0, 1, 2, 1, 0, 1, 2, 1, 0, 0, 2, 1, 2, 0, 1, 1, 0, 1, 1, 2, 1, 1,\n",
       "       1, 0, 1, 1, 1, 0, 0, 1, 0, 0, 1, 2, 0, 1, 2, 1, 1, 2, 0, 1, 2, 1,\n",
       "       1, 1, 1, 2, 1, 2, 0, 1, 0, 1, 1, 1, 2, 0, 1, 2, 0, 1, 2, 2, 2, 0,\n",
       "       1, 0, 0, 1, 1, 1, 0, 0, 2, 1, 2, 1, 1, 1, 2, 1, 0, 1, 1, 1, 1, 1,\n",
       "       2, 0, 1, 1, 2, 1, 1, 2, 0, 1, 0, 2, 0, 1, 1, 2, 0, 0, 2, 1, 0, 1,\n",
       "       2, 1, 1, 1, 1, 0, 0, 2, 1, 1, 0, 1, 1, 2, 2, 1, 2, 1, 0, 1, 0, 0,\n",
       "       1, 1, 1, 2, 0, 0, 1, 0, 0, 0, 2, 1, 1, 1, 0, 1, 2, 0, 0, 1, 0, 1,\n",
       "       1, 0, 0, 1, 2, 0, 1, 2, 2, 1, 0, 0, 2, 1, 1, 0, 1, 2, 2, 1, 1])"
      ]
     },
     "execution_count": 25,
     "metadata": {},
     "output_type": "execute_result"
    }
   ],
   "source": [
    "ranfor = RandomForestClassifier(random_state=CFG.SEED)\n",
    "ranfor = ranfor.fit(x_train, y_train)\n",
    "ranfor_predicted = ranfor.predict(x_test)\n",
    "ranfor_predicted"
   ]
  },
  {
   "cell_type": "code",
   "execution_count": 26,
   "id": "36c95560",
   "metadata": {},
   "outputs": [
    {
     "data": {
      "text/plain": [
       "array([0, 1, 2, 1, 0, 1, 2, 1, 0, 0, 2, 1, 1, 0, 1, 1, 0, 1, 1, 2, 1, 1,\n",
       "       1, 0, 1, 1, 1, 0, 0, 1, 0, 0, 1, 1, 0, 1, 2, 1, 1, 2, 0, 1, 2, 1,\n",
       "       1, 1, 1, 1, 1, 2, 0, 1, 0, 1, 1, 1, 2, 0, 1, 2, 0, 1, 2, 2, 2, 0,\n",
       "       1, 0, 0, 1, 1, 1, 0, 0, 2, 1, 2, 1, 1, 1, 2, 1, 0, 1, 1, 1, 1, 1,\n",
       "       2, 0, 1, 1, 1, 1, 1, 2, 0, 1, 0, 2, 0, 1, 1, 2, 0, 0, 2, 1, 0, 1,\n",
       "       2, 1, 1, 1, 1, 0, 0, 2, 1, 1, 0, 1, 1, 2, 2, 1, 1, 1, 0, 1, 0, 0,\n",
       "       1, 1, 1, 2, 0, 0, 1, 0, 0, 0, 2, 1, 1, 1, 0, 1, 2, 0, 0, 1, 0, 1,\n",
       "       1, 0, 0, 1, 2, 0, 1, 2, 2, 1, 0, 0, 2, 1, 1, 0, 1, 2, 2, 1, 1])"
      ]
     },
     "execution_count": 26,
     "metadata": {},
     "output_type": "execute_result"
    }
   ],
   "source": [
    "voting_clf = VotingClassifier(estimators=[('decision_tree', dtree), ('knn', knn), ('svm', svm),('random_foresting',ranfor )],\n",
    "                                 weights=[1, 1, 1, 1], voting ='hard').fit(x_train, y_train)\n",
    "hard_voting_predicted_4 = voting_clf.predict(x_test)\n",
    "hard_voting_predicted_4"
   ]
  },
  {
   "cell_type": "code",
   "execution_count": 27,
   "id": "b8c2508b",
   "metadata": {},
   "outputs": [
    {
     "data": {
      "text/plain": [
       "array([0, 1, 2, 1, 0, 1, 2, 1, 0, 0, 2, 1, 1, 0, 1, 1, 0, 1, 1, 2, 1, 1,\n",
       "       1, 0, 1, 1, 1, 0, 0, 1, 0, 0, 1, 2, 0, 1, 2, 1, 1, 2, 0, 1, 2, 1,\n",
       "       1, 1, 1, 2, 1, 2, 0, 1, 0, 1, 1, 1, 2, 0, 1, 2, 0, 1, 2, 2, 2, 0,\n",
       "       1, 0, 0, 1, 1, 1, 0, 0, 2, 1, 2, 1, 1, 1, 2, 1, 0, 1, 1, 1, 1, 1,\n",
       "       2, 0, 1, 1, 2, 1, 1, 2, 0, 1, 0, 2, 0, 1, 1, 2, 0, 0, 2, 1, 0, 1,\n",
       "       2, 1, 1, 1, 1, 0, 0, 2, 1, 1, 0, 1, 1, 2, 2, 1, 2, 1, 0, 1, 0, 0,\n",
       "       1, 1, 1, 2, 0, 0, 1, 0, 0, 0, 2, 1, 1, 2, 0, 1, 2, 0, 0, 1, 0, 1,\n",
       "       1, 0, 0, 1, 2, 0, 1, 2, 2, 1, 0, 0, 2, 1, 1, 0, 1, 2, 2, 1, 1])"
      ]
     },
     "execution_count": 27,
     "metadata": {},
     "output_type": "execute_result"
    }
   ],
   "source": [
    "voting_clf = VotingClassifier(estimators=[('decision_tree', dtree), ('knn', knn), ('svm', svm),('random_foresting',ranfor )],\n",
    "                                 weights=[1, 1, 1, 1], voting ='soft').fit(x_train, y_train)\n",
    "soft_voting_predicted_4 = voting_clf.predict(x_test)\n",
    "soft_voting_predicted_4"
   ]
  },
  {
   "cell_type": "code",
   "execution_count": 28,
   "id": "98f1f935",
   "metadata": {},
   "outputs": [],
   "source": [
    "submit['class'] = class_le.inverse_transform(hard_voting_predicted_4)\n",
    "submit.to_csv('./answer/submit_hardvoting_4.csv', index=False)"
   ]
  },
  {
   "cell_type": "code",
   "execution_count": 29,
   "id": "8111e3c6",
   "metadata": {},
   "outputs": [],
   "source": [
    "submit['class'] = class_le.inverse_transform(soft_voting_predicted_4)\n",
    "submit.to_csv('./answer/submit_softvoting_4.csv', index=False)"
   ]
  },
  {
   "cell_type": "code",
   "execution_count": null,
   "id": "018a947b",
   "metadata": {},
   "outputs": [],
   "source": []
  }
 ],
 "metadata": {
  "kernelspec": {
   "display_name": "Python 3 (ipykernel)",
   "language": "python",
   "name": "python3"
  },
  "language_info": {
   "codemirror_mode": {
    "name": "ipython",
    "version": 3
   },
   "file_extension": ".py",
   "mimetype": "text/x-python",
   "name": "python",
   "nbconvert_exporter": "python",
   "pygments_lexer": "ipython3",
   "version": "3.7.13"
  }
 },
 "nbformat": 4,
 "nbformat_minor": 5
}
