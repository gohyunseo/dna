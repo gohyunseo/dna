{
 "cells": [
  {
   "cell_type": "markdown",
   "id": "69f2f1f1",
   "metadata": {},
   "source": [
    "## import"
   ]
  },
  {
   "cell_type": "code",
   "execution_count": 1,
   "id": "dc0124aa",
   "metadata": {},
   "outputs": [],
   "source": [
    "import pandas as pd\n",
    "import random\n",
    "import os\n",
    "import numpy as np\n",
    "import warnings\n",
    "warnings.filterwarnings('ignore')\n",
    "\n",
    "from sklearn import tree # 의사결정트리\n",
    "from sklearn import preprocessing\n",
    "\n",
    "import matplotlib.pyplot as plt\n",
    "import seaborn as sns\n",
    "\n",
    "from sklearn import metrics\n",
    "from sklearn.metrics import accuracy_score\n",
    "from sklearn.model_selection import train_test_split\n",
    "\n",
    "#sklearn 모델의 동일한 결과 출력을 위해 선언합니다.\n",
    "np.random.seed(42)"
   ]
  },
  {
   "cell_type": "markdown",
   "id": "f4830211",
   "metadata": {},
   "source": [
    "## load data"
   ]
  },
  {
   "cell_type": "code",
   "execution_count": 2,
   "id": "99572893",
   "metadata": {},
   "outputs": [
    {
     "data": {
      "text/html": [
       "<div>\n",
       "<style scoped>\n",
       "    .dataframe tbody tr th:only-of-type {\n",
       "        vertical-align: middle;\n",
       "    }\n",
       "\n",
       "    .dataframe tbody tr th {\n",
       "        vertical-align: top;\n",
       "    }\n",
       "\n",
       "    .dataframe thead th {\n",
       "        text-align: right;\n",
       "    }\n",
       "</style>\n",
       "<table border=\"1\" class=\"dataframe\">\n",
       "  <thead>\n",
       "    <tr style=\"text-align: right;\">\n",
       "      <th></th>\n",
       "      <th>id</th>\n",
       "      <th>father</th>\n",
       "      <th>mother</th>\n",
       "      <th>gender</th>\n",
       "      <th>trait</th>\n",
       "      <th>SNP_01</th>\n",
       "      <th>SNP_02</th>\n",
       "      <th>SNP_03</th>\n",
       "      <th>SNP_04</th>\n",
       "      <th>SNP_05</th>\n",
       "      <th>...</th>\n",
       "      <th>SNP_07</th>\n",
       "      <th>SNP_08</th>\n",
       "      <th>SNP_09</th>\n",
       "      <th>SNP_10</th>\n",
       "      <th>SNP_11</th>\n",
       "      <th>SNP_12</th>\n",
       "      <th>SNP_13</th>\n",
       "      <th>SNP_14</th>\n",
       "      <th>SNP_15</th>\n",
       "      <th>class</th>\n",
       "    </tr>\n",
       "  </thead>\n",
       "  <tbody>\n",
       "    <tr>\n",
       "      <th>0</th>\n",
       "      <td>TRAIN_000</td>\n",
       "      <td>0</td>\n",
       "      <td>0</td>\n",
       "      <td>0</td>\n",
       "      <td>2</td>\n",
       "      <td>G G</td>\n",
       "      <td>A G</td>\n",
       "      <td>A A</td>\n",
       "      <td>G A</td>\n",
       "      <td>C A</td>\n",
       "      <td>...</td>\n",
       "      <td>A A</td>\n",
       "      <td>G G</td>\n",
       "      <td>A A</td>\n",
       "      <td>G G</td>\n",
       "      <td>A G</td>\n",
       "      <td>A A</td>\n",
       "      <td>A A</td>\n",
       "      <td>A A</td>\n",
       "      <td>A A</td>\n",
       "      <td>B</td>\n",
       "    </tr>\n",
       "    <tr>\n",
       "      <th>1</th>\n",
       "      <td>TRAIN_001</td>\n",
       "      <td>0</td>\n",
       "      <td>0</td>\n",
       "      <td>0</td>\n",
       "      <td>2</td>\n",
       "      <td>A G</td>\n",
       "      <td>A G</td>\n",
       "      <td>C A</td>\n",
       "      <td>A A</td>\n",
       "      <td>A A</td>\n",
       "      <td>...</td>\n",
       "      <td>A A</td>\n",
       "      <td>G A</td>\n",
       "      <td>A A</td>\n",
       "      <td>A G</td>\n",
       "      <td>A A</td>\n",
       "      <td>G A</td>\n",
       "      <td>G G</td>\n",
       "      <td>A A</td>\n",
       "      <td>A A</td>\n",
       "      <td>C</td>\n",
       "    </tr>\n",
       "    <tr>\n",
       "      <th>2</th>\n",
       "      <td>TRAIN_002</td>\n",
       "      <td>0</td>\n",
       "      <td>0</td>\n",
       "      <td>0</td>\n",
       "      <td>2</td>\n",
       "      <td>G G</td>\n",
       "      <td>G G</td>\n",
       "      <td>A A</td>\n",
       "      <td>G A</td>\n",
       "      <td>C C</td>\n",
       "      <td>...</td>\n",
       "      <td>A A</td>\n",
       "      <td>G A</td>\n",
       "      <td>G A</td>\n",
       "      <td>A G</td>\n",
       "      <td>A A</td>\n",
       "      <td>A A</td>\n",
       "      <td>A A</td>\n",
       "      <td>A A</td>\n",
       "      <td>A A</td>\n",
       "      <td>B</td>\n",
       "    </tr>\n",
       "    <tr>\n",
       "      <th>3</th>\n",
       "      <td>TRAIN_003</td>\n",
       "      <td>0</td>\n",
       "      <td>0</td>\n",
       "      <td>0</td>\n",
       "      <td>1</td>\n",
       "      <td>A A</td>\n",
       "      <td>G G</td>\n",
       "      <td>A A</td>\n",
       "      <td>G A</td>\n",
       "      <td>A A</td>\n",
       "      <td>...</td>\n",
       "      <td>G G</td>\n",
       "      <td>A A</td>\n",
       "      <td>G G</td>\n",
       "      <td>A G</td>\n",
       "      <td>G G</td>\n",
       "      <td>G G</td>\n",
       "      <td>G G</td>\n",
       "      <td>A A</td>\n",
       "      <td>G G</td>\n",
       "      <td>A</td>\n",
       "    </tr>\n",
       "  </tbody>\n",
       "</table>\n",
       "<p>4 rows × 21 columns</p>\n",
       "</div>"
      ],
      "text/plain": [
       "          id  father  mother  gender  trait SNP_01 SNP_02 SNP_03 SNP_04  \\\n",
       "0  TRAIN_000       0       0       0      2    G G    A G    A A    G A   \n",
       "1  TRAIN_001       0       0       0      2    A G    A G    C A    A A   \n",
       "2  TRAIN_002       0       0       0      2    G G    G G    A A    G A   \n",
       "3  TRAIN_003       0       0       0      1    A A    G G    A A    G A   \n",
       "\n",
       "  SNP_05  ... SNP_07 SNP_08 SNP_09 SNP_10 SNP_11 SNP_12 SNP_13 SNP_14 SNP_15  \\\n",
       "0    C A  ...    A A    G G    A A    G G    A G    A A    A A    A A    A A   \n",
       "1    A A  ...    A A    G A    A A    A G    A A    G A    G G    A A    A A   \n",
       "2    C C  ...    A A    G A    G A    A G    A A    A A    A A    A A    A A   \n",
       "3    A A  ...    G G    A A    G G    A G    G G    G G    G G    A A    G G   \n",
       "\n",
       "  class  \n",
       "0     B  \n",
       "1     C  \n",
       "2     B  \n",
       "3     A  \n",
       "\n",
       "[4 rows x 21 columns]"
      ]
     },
     "execution_count": 2,
     "metadata": {},
     "output_type": "execute_result"
    }
   ],
   "source": [
    "train = pd.read_csv('./train.csv') #데이터 불러오기\n",
    "y_label = train['class']\n",
    "\n",
    "train_df = pd.DataFrame(train)\n",
    "train_df['class'] = y_label\n",
    "\n",
    "train_df.head(4)"
   ]
  },
  {
   "cell_type": "code",
   "execution_count": 3,
   "id": "4433cb64",
   "metadata": {},
   "outputs": [],
   "source": [
    "# 필요없는 식별자 제거\n",
    "\n",
    "train_df.drop(['id','father','mother','gender'], axis=1, inplace = True)"
   ]
  },
  {
   "cell_type": "code",
   "execution_count": 4,
   "id": "6da15954",
   "metadata": {},
   "outputs": [
    {
     "name": "stdout",
     "output_type": "stream",
     "text": [
      "B    114\n",
      "C     79\n",
      "A     69\n",
      "Name: class, dtype: int64\n"
     ]
    }
   ],
   "source": [
    "print(train_df['class'].value_counts())"
   ]
  },
  {
   "cell_type": "markdown",
   "id": "9952ac56",
   "metadata": {},
   "source": [
    "### 훈련용에서 훈련 / 테스트 나누기"
   ]
  },
  {
   "cell_type": "code",
   "execution_count": 5,
   "id": "4f77fc4c",
   "metadata": {
    "scrolled": true
   },
   "outputs": [
    {
     "name": "stdout",
     "output_type": "stream",
     "text": [
      "(209, 17) (53, 17)\n"
     ]
    }
   ],
   "source": [
    "# 훈련용 데이터와 테스트 데이터 8:2 비율로 나누기\n",
    "X_train, X_valid, y_train, y_valid = train_test_split(train_df, y_label, test_size = 0.2, random_state = 42)\n",
    "\n",
    "print(X_train.shape, X_valid.shape)"
   ]
  },
  {
   "cell_type": "markdown",
   "id": "9b54862f",
   "metadata": {},
   "source": [
    "## 라벨 - 인코딩"
   ]
  },
  {
   "cell_type": "code",
   "execution_count": 6,
   "id": "23edf08e",
   "metadata": {},
   "outputs": [],
   "source": [
    "X_train = train_df[['trait', 'SNP_01', 'SNP_02', 'SNP_03', 'SNP_04', 'SNP_05', 'SNP_06', 'SNP_07', 'SNP_08', 'SNP_09',\n",
    "                    'SNP_10', 'SNP_11', 'SNP_12', 'SNP_13', 'SNP_14', 'SNP_15',]]\n",
    "y_train = train_df[['class']]"
   ]
  },
  {
   "cell_type": "code",
   "execution_count": 7,
   "id": "a669acfb",
   "metadata": {},
   "outputs": [],
   "source": [
    "X_valid = train_df[['trait', 'SNP_01', 'SNP_02', 'SNP_03', 'SNP_04', 'SNP_05', 'SNP_06', 'SNP_07', 'SNP_08', 'SNP_09',\n",
    "                    'SNP_10', 'SNP_11', 'SNP_12', 'SNP_13', 'SNP_14', 'SNP_15',]]\n",
    "y_valid = train_df[['class']]"
   ]
  },
  {
   "cell_type": "code",
   "execution_count": 8,
   "id": "55c3e072",
   "metadata": {},
   "outputs": [],
   "source": [
    "class_le = preprocessing.LabelEncoder()\n",
    "snp_le = preprocessing.LabelEncoder()\n",
    "snp_col = [f'SNP_{str(x).zfill(2)}' for x in range(1,16)]"
   ]
  },
  {
   "cell_type": "code",
   "execution_count": 9,
   "id": "5e4f7bf0",
   "metadata": {},
   "outputs": [],
   "source": [
    "snp_data = []\n",
    "for col in snp_col:\n",
    "    snp_data += list(X_valid[col].values)"
   ]
  },
  {
   "cell_type": "code",
   "execution_count": 10,
   "id": "21130250",
   "metadata": {},
   "outputs": [
    {
     "data": {
      "text/plain": [
       "LabelEncoder()"
      ]
     },
     "execution_count": 10,
     "metadata": {},
     "output_type": "execute_result"
    }
   ],
   "source": [
    "y_train = class_le.fit_transform(y_train)\n",
    "snp_le.fit(snp_data)"
   ]
  },
  {
   "cell_type": "code",
   "execution_count": 11,
   "id": "b09579b0",
   "metadata": {},
   "outputs": [],
   "source": [
    "for col in X_train.columns:\n",
    "    if col in snp_col:\n",
    "        X_train[col] = snp_le.transform(X_train[col])\n",
    "        X_valid[col] = snp_le.transform(X_valid[col])"
   ]
  },
  {
   "cell_type": "markdown",
   "id": "4692a0b7",
   "metadata": {},
   "source": [
    "## Model Fit"
   ]
  },
  {
   "cell_type": "code",
   "execution_count": 12,
   "id": "6395e681",
   "metadata": {},
   "outputs": [
    {
     "data": {
      "text/plain": [
       "DecisionTreeClassifier(random_state=42)"
      ]
     },
     "execution_count": 12,
     "metadata": {},
     "output_type": "execute_result"
    }
   ],
   "source": [
    "#학습데이터로 모델 학습\n",
    "model = tree.DecisionTreeClassifier(random_state = 42)\n",
    "model.fit(X_train, y_train)"
   ]
  },
  {
   "cell_type": "code",
   "execution_count": 13,
   "id": "51b73699",
   "metadata": {},
   "outputs": [
    {
     "name": "stdout",
     "output_type": "stream",
     "text": [
      "done\n"
     ]
    }
   ],
   "source": [
    "preds = model.predict(X_valid)\n",
    "print('done')"
   ]
  },
  {
   "cell_type": "code",
   "execution_count": 14,
   "id": "a071d8cb",
   "metadata": {},
   "outputs": [],
   "source": [
    "#submit = pd.read_csv('./sample_submission.csv')"
   ]
  },
  {
   "cell_type": "code",
   "execution_count": 15,
   "id": "7c0e1a90",
   "metadata": {},
   "outputs": [],
   "source": [
    "#submit['class'] = class_le.inverse_transform(preds)"
   ]
  },
  {
   "cell_type": "code",
   "execution_count": 16,
   "id": "ea9dd36f",
   "metadata": {},
   "outputs": [],
   "source": [
    "#submit.to_csv('./answer/submit_dtree.csv', index=False)"
   ]
  },
  {
   "cell_type": "code",
   "execution_count": 17,
   "id": "bdb6adfb",
   "metadata": {},
   "outputs": [
    {
     "data": {
      "text/plain": [
       "array([1, 2, 1, 0, 2, 1, 1, 1, 1, 2, 1, 1, 2, 2, 1, 0, 0, 0, 0, 2, 1, 1,\n",
       "       0, 1, 2, 1, 1, 1, 1, 0, 1, 0, 1, 1, 0, 2, 1, 0, 1, 1, 1, 1, 1, 0,\n",
       "       2, 1, 1, 0, 2, 0, 0, 2, 0, 2, 1, 1, 0, 0, 2, 2, 1, 0, 2, 2, 0, 2,\n",
       "       2, 0, 1, 2, 2, 2, 0, 1, 1, 1, 2, 1, 2, 0, 1, 1, 2, 0, 2, 0, 2, 2,\n",
       "       2, 1, 1, 1, 2, 2, 1, 1, 2, 0, 0, 1, 0, 1, 0, 1, 0, 1, 0, 1, 1, 2,\n",
       "       1, 1, 1, 1, 1, 1, 1, 0, 2, 2, 1, 1, 2, 0, 0, 1, 1, 0, 2, 2, 2, 0,\n",
       "       1, 2, 0, 1, 2, 0, 2, 1, 1, 2, 2, 1, 1, 1, 2, 2, 0, 1, 0, 2, 2, 2,\n",
       "       1, 0, 1, 1, 1, 1, 1, 0, 1, 2, 1, 1, 1, 0, 0, 2, 2, 0, 0, 2, 2, 2,\n",
       "       2, 0, 2, 0, 0, 2, 0, 2, 2, 1, 1, 2, 1, 2, 2, 1, 1, 1, 0, 1, 1, 2,\n",
       "       1, 2, 0, 1, 0, 1, 0, 2, 2, 1, 2, 1, 2, 1, 0, 0, 1, 2, 0, 0, 2, 1,\n",
       "       0, 1, 1, 1, 0, 1, 1, 1, 1, 0, 2, 2, 1, 2, 1, 2, 1, 0, 2, 0, 0, 2,\n",
       "       2, 1, 1, 1, 0, 1, 0, 1, 0, 2, 1, 0, 1, 1, 1, 1, 2, 0, 0, 1])"
      ]
     },
     "execution_count": 17,
     "metadata": {},
     "output_type": "execute_result"
    }
   ],
   "source": [
    "preds"
   ]
  },
  {
   "cell_type": "code",
   "execution_count": 18,
   "id": "681b4fc4",
   "metadata": {},
   "outputs": [
    {
     "data": {
      "text/plain": [
       "1.0"
      ]
     },
     "execution_count": 18,
     "metadata": {},
     "output_type": "execute_result"
    }
   ],
   "source": [
    "accuracy_score(y_train, preds) "
   ]
  },
  {
   "cell_type": "code",
   "execution_count": null,
   "id": "7651680e",
   "metadata": {},
   "outputs": [],
   "source": []
  }
 ],
 "metadata": {
  "kernelspec": {
   "display_name": "Python 3 (ipykernel)",
   "language": "python",
   "name": "python3"
  },
  "language_info": {
   "codemirror_mode": {
    "name": "ipython",
    "version": 3
   },
   "file_extension": ".py",
   "mimetype": "text/x-python",
   "name": "python",
   "nbconvert_exporter": "python",
   "pygments_lexer": "ipython3",
   "version": "3.7.13"
  }
 },
 "nbformat": 4,
 "nbformat_minor": 5
}
