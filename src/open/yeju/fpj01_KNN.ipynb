{
 "cells": [
  {
   "cell_type": "markdown",
   "id": "c4727259",
   "metadata": {},
   "source": [
    "# Import"
   ]
  },
  {
   "cell_type": "code",
   "execution_count": 1,
   "id": "a665c9b2",
   "metadata": {},
   "outputs": [],
   "source": [
    "# 필요한 라이브러리 임포트\n",
    "\n",
    "import pandas as pd\n",
    "import random\n",
    "import os\n",
    "import numpy as np\n",
    "\n",
    "import matplotlib.pyplot as plt\n",
    "\n",
    "from sklearn import preprocessing\n",
    "from sklearn.ensemble import RandomForestClassifier\n",
    "from sklearn.neighbors import KNeighborsClassifier\n",
    "from sklearn.model_selection import train_test_split\n",
    "from sklearn import metrics"
   ]
  },
  {
   "cell_type": "code",
   "execution_count": 2,
   "id": "369e83fd",
   "metadata": {},
   "outputs": [],
   "source": [
    "# 시드값 고정을 위한 클래스 정의.\n",
    "\n",
    "class CFG:\n",
    "    SEED = 42"
   ]
  },
  {
   "cell_type": "code",
   "execution_count": 3,
   "id": "854a78dc",
   "metadata": {},
   "outputs": [],
   "source": [
    "# 시드값 호출을 위한 함수 정의.\n",
    "\n",
    "def seed_everything(seed):\n",
    "    random.seed(seed)\n",
    "    os.environ['PYTHONHASHSEED'] = str(seed)\n",
    "    np.random.seed(seed)\n",
    "seed_everything(CFG.SEED) # Seed 고정"
   ]
  },
  {
   "cell_type": "markdown",
   "id": "cfeeec87",
   "metadata": {},
   "source": [
    "# Data Load"
   ]
  },
  {
   "cell_type": "code",
   "execution_count": 4,
   "id": "4d92d9b4",
   "metadata": {},
   "outputs": [],
   "source": [
    "# 학습 데이터와 테스트 데이터 불러오기.\n",
    "\n",
    "train = pd.read_csv('open/train.csv')\n",
    "test = pd.read_csv('open/test.csv')"
   ]
  },
  {
   "cell_type": "code",
   "execution_count": 7,
   "id": "1438b773",
   "metadata": {},
   "outputs": [
    {
     "name": "stdout",
     "output_type": "stream",
     "text": [
      "2    193\n",
      "1     69\n",
      "Name: trait, dtype: int64\n",
      "--------------\n",
      "B    114\n",
      "C     79\n",
      "A     69\n",
      "Name: class, dtype: int64\n",
      "--------------\n"
     ]
    }
   ],
   "source": [
    "# trait과 class 피쳐의 특징 파악.\n",
    "\n",
    "print(train['trait'].value_counts())\n",
    "print('--------------')\n",
    "\n",
    "print(train['class'].value_counts())\n",
    "print('--------------')"
   ]
  },
  {
   "cell_type": "code",
   "execution_count": 5,
   "id": "02d0c9f2",
   "metadata": {},
   "outputs": [],
   "source": [
    "# 학습 데이터와 테스트 데이터를 동일한 형태로 만들어 주기 위해 전처리 가능한 함수 정의.\n",
    "\n",
    "def get_x_y(df):\n",
    "    if 'class' in df.columns:\n",
    "        df_x = df.drop(columns=['id', 'class'])\n",
    "        df_y = df['class']\n",
    "        return df_x, df_y\n",
    "    else:\n",
    "        df_x = df.drop(columns=['id'])\n",
    "        return df_x"
   ]
  },
  {
   "cell_type": "code",
   "execution_count": 6,
   "id": "0de26fa8",
   "metadata": {},
   "outputs": [],
   "source": [
    "# 함수를 이용해서 학습 데이터와 테스트 데이터 전처리 진행.\n",
    "\n",
    "train_x, train_y = get_x_y(train)\n",
    "test_x = get_x_y(test)"
   ]
  },
  {
   "cell_type": "markdown",
   "id": "24df8712",
   "metadata": {},
   "source": [
    "# Data Pre-processing\n",
    "### Label-Encoding"
   ]
  },
  {
   "cell_type": "code",
   "execution_count": 7,
   "id": "51145eaf",
   "metadata": {},
   "outputs": [
    {
     "name": "stdout",
     "output_type": "stream",
     "text": [
      "['SNP_01', 'SNP_02', 'SNP_03', 'SNP_04', 'SNP_05', 'SNP_06', 'SNP_07', 'SNP_08', 'SNP_09', 'SNP_10', 'SNP_11', 'SNP_12', 'SNP_13', 'SNP_14', 'SNP_15']\n"
     ]
    }
   ],
   "source": [
    "# 머신러닝 학습을 위한 문자열 데이터를 숫자 데이터로 변경하기 위해 LabelEncode() 선언.\n",
    "\n",
    "class_le = preprocessing.LabelEncoder()\n",
    "snp_le = preprocessing.LabelEncoder()\n",
    "\n",
    "# 유전체의 염기서열을 담고 있는 칼럼들을 snp_col의 이름으로 지정.\n",
    "\n",
    "snp_col = [f'SNP_{str(x).zfill(2)}' for x in range(1,16)]\n",
    "print(snp_col)"
   ]
  },
  {
   "cell_type": "code",
   "execution_count": 8,
   "id": "d9fab945",
   "metadata": {},
   "outputs": [],
   "source": [
    "# snp_col 칼럼의 데이터들을 snp_data 이름의 배열에 저장.\n",
    "\n",
    "snp_data = []\n",
    "for col in snp_col:\n",
    "    snp_data += list(train_x[col].values)"
   ]
  },
  {
   "cell_type": "code",
   "execution_count": 17,
   "id": "88c02e48",
   "metadata": {},
   "outputs": [
    {
     "data": {
      "text/plain": [
       "LabelEncoder()"
      ]
     },
     "execution_count": 17,
     "metadata": {},
     "output_type": "execute_result"
    }
   ],
   "source": [
    "# 문자열 데이터들을 모두 숫자 데이터로 변경.\n",
    "\n",
    "train_y = class_le.fit_transform(train_y)\n",
    "snp_le.fit(snp_data)"
   ]
  },
  {
   "cell_type": "code",
   "execution_count": 18,
   "id": "10d18d39",
   "metadata": {},
   "outputs": [],
   "source": [
    "for col in train_x.columns:\n",
    "    if col in snp_col:\n",
    "        train_x[col] = snp_le.transform(train_x[col])\n",
    "        test_x[col] = snp_le.transform(test_x[col])"
   ]
  },
  {
   "cell_type": "markdown",
   "id": "ecdd616e",
   "metadata": {},
   "source": [
    "# Model Fit"
   ]
  },
  {
   "cell_type": "code",
   "execution_count": 48,
   "id": "101cae31",
   "metadata": {},
   "outputs": [
    {
     "name": "stdout",
     "output_type": "stream",
     "text": [
      "KNeighborsClassifier(n_neighbors=1)\n"
     ]
    }
   ],
   "source": [
    "k = 1\n",
    "clf = KNeighborsClassifier(n_neighbors=k).fit(train_x, train_y)\n",
    "print(clf)"
   ]
  },
  {
   "cell_type": "code",
   "execution_count": 49,
   "id": "95608292",
   "metadata": {},
   "outputs": [
    {
     "name": "stdout",
     "output_type": "stream",
     "text": [
      "Train set Accuracy : 1.0\n"
     ]
    }
   ],
   "source": [
    "yhat = clf.predict(test_x)\n",
    "print(\"Train set Accuracy :\", metrics.accuracy_score(train_y, clf.predict(train_x)))"
   ]
  },
  {
   "cell_type": "markdown",
   "id": "4b7be2c9",
   "metadata": {},
   "source": [
    "-. k = 1로 예측한 결과를 제출하면 0.9257142857의 결과를 얻는다."
   ]
  },
  {
   "cell_type": "code",
   "execution_count": 50,
   "id": "472240fa",
   "metadata": {},
   "outputs": [
    {
     "name": "stdout",
     "output_type": "stream",
     "text": [
      "KNeighborsClassifier(n_neighbors=2)\n"
     ]
    }
   ],
   "source": [
    "k = 2\n",
    "clf = KNeighborsClassifier(n_neighbors=k).fit(train_x, train_y)\n",
    "print(clf)"
   ]
  },
  {
   "cell_type": "code",
   "execution_count": 51,
   "id": "f2e26114",
   "metadata": {},
   "outputs": [
    {
     "name": "stdout",
     "output_type": "stream",
     "text": [
      "Train set Accuracy : 0.9312977099236641\n"
     ]
    }
   ],
   "source": [
    "yhat = clf.predict(test_x)\n",
    "print(\"Train set Accuracy :\", metrics.accuracy_score(train_y, clf.predict(train_x)))"
   ]
  },
  {
   "cell_type": "markdown",
   "id": "5475597d",
   "metadata": {},
   "source": [
    "-. k = 2로 예측한 결과를 제출하면 0.9320261438의 결과를 얻는다."
   ]
  },
  {
   "cell_type": "code",
   "execution_count": 43,
   "id": "32317894",
   "metadata": {},
   "outputs": [
    {
     "name": "stdout",
     "output_type": "stream",
     "text": [
      "KNeighborsClassifier(n_neighbors=3)\n"
     ]
    }
   ],
   "source": [
    "k = 3\n",
    "clf = KNeighborsClassifier(n_neighbors=k).fit(train_x, train_y)\n",
    "print(clf)"
   ]
  },
  {
   "cell_type": "code",
   "execution_count": 44,
   "id": "075bb9af",
   "metadata": {},
   "outputs": [
    {
     "name": "stdout",
     "output_type": "stream",
     "text": [
      "Train set Accuracy : 0.9427480916030534\n"
     ]
    }
   ],
   "source": [
    "yhat = clf.predict(test_x)\n",
    "print(\"Train set Accuracy :\", metrics.accuracy_score(train_y, clf.predict(train_x)))"
   ]
  },
  {
   "cell_type": "markdown",
   "id": "6ec655f4",
   "metadata": {},
   "source": [
    "-. k = 3로 예측한 결과를 제출하면 0.9622367466의 결과를 얻는다.  \n",
    "-. 이는 처음의 베이스라인 코드를 통한 결과를 제출했을 때와 같은 수치이다."
   ]
  },
  {
   "cell_type": "code",
   "execution_count": 52,
   "id": "e94de566",
   "metadata": {},
   "outputs": [
    {
     "name": "stdout",
     "output_type": "stream",
     "text": [
      "KNeighborsClassifier(n_neighbors=4)\n"
     ]
    }
   ],
   "source": [
    "k = 4\n",
    "clf = KNeighborsClassifier(n_neighbors=k).fit(train_x, train_y)\n",
    "print(clf)"
   ]
  },
  {
   "cell_type": "code",
   "execution_count": 53,
   "id": "3c57d24d",
   "metadata": {},
   "outputs": [
    {
     "name": "stdout",
     "output_type": "stream",
     "text": [
      "Train set Accuracy : 0.9427480916030534\n"
     ]
    }
   ],
   "source": [
    "yhat = clf.predict(test_x)\n",
    "print(\"Train set Accuracy :\", metrics.accuracy_score(train_y, clf.predict(train_x)))"
   ]
  },
  {
   "cell_type": "markdown",
   "id": "4188750d",
   "metadata": {},
   "source": [
    "(1부터 1씩 증가하면서 해봤는데 역시나 3이 최적이었음. 4부터 바로 떨어짐.) - 대략 0.96에서 0.94로 떨어졌음."
   ]
  },
  {
   "cell_type": "markdown",
   "id": "e0c04776",
   "metadata": {},
   "source": [
    "# Submission"
   ]
  },
  {
   "cell_type": "code",
   "execution_count": 45,
   "id": "4410edbf",
   "metadata": {},
   "outputs": [],
   "source": [
    "submit = pd.read_csv('open/sample_submission.csv')"
   ]
  },
  {
   "cell_type": "code",
   "execution_count": 46,
   "id": "385afd32",
   "metadata": {},
   "outputs": [],
   "source": [
    "submit['class'] = class_le.inverse_transform(yhat)"
   ]
  },
  {
   "cell_type": "code",
   "execution_count": 47,
   "id": "9d261555",
   "metadata": {},
   "outputs": [],
   "source": [
    "submit.to_csv('./answer/submit.csv', index=False)"
   ]
  }
 ],
 "metadata": {
  "kernelspec": {
   "display_name": "Python [conda env:tf_cpu] *",
   "language": "python",
   "name": "conda-env-tf_cpu-py"
  },
  "language_info": {
   "codemirror_mode": {
    "name": "ipython",
    "version": 3
   },
   "file_extension": ".py",
   "mimetype": "text/x-python",
   "name": "python",
   "nbconvert_exporter": "python",
   "pygments_lexer": "ipython3",
   "version": "3.7.13"
  }
 },
 "nbformat": 4,
 "nbformat_minor": 5
}
